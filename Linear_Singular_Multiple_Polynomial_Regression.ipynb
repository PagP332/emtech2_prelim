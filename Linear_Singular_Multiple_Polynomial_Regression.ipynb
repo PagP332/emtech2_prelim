{
  "nbformat": 4,
  "nbformat_minor": 0,
  "metadata": {
    "colab": {
      "provenance": []
    },
    "kernelspec": {
      "name": "python3",
      "display_name": "Python 3"
    },
    "language_info": {
      "name": "python"
    }
  },
  "cells": [
    {
      "cell_type": "markdown",
      "source": [
        "Choose any dataset applicable for classification and/or prediction analysis problems.\n",
        "\n",
        "Show the application of the following algorithms:\n",
        "\n",
        "* Linear Regression\n",
        "\n",
        " * Singular LR\n",
        "\n",
        " * Multiple LR\n",
        "\n",
        " * Polynomial LR\n",
        "\n",
        "* Logistic Regression\n",
        "\n",
        "* Decision Tree\n",
        "\n",
        "* Random Forest\n",
        "\n",
        "Provide Evaluation reports for all models\n"
      ],
      "metadata": {
        "id": "cNSXhpAd3a8_"
      }
    },
    {
      "cell_type": "markdown",
      "source": [
        "##**LINEAR REGRESSION**"
      ],
      "metadata": {
        "id": "nVA6YUH6ZZdq"
      }
    },
    {
      "cell_type": "code",
      "source": [
        "import graphviz\n",
        "import numpy as np\n",
        "import pandas as pd\n",
        "import seaborn as sns\n",
        "import matplotlib.pyplot as plt\n",
        "from sklearn import tree, metrics, linear_model\n",
        "from six import StringIO\n",
        "from sklearn.linear_model import LinearRegression, LogisticRegression\n",
        "from sklearn.model_selection import train_test_split\n",
        "from sklearn.linear_model import LinearRegression\n",
        "from sklearn.metrics import mean_squared_error, r2_score\n",
        "from sklearn.preprocessing import PolynomialFeatures\n",
        "from sklearn.linear_model import LinearRegression\n",
        "\n"
      ],
      "metadata": {
        "id": "ISfsFa3J83gG"
      },
      "execution_count": 117,
      "outputs": []
    },
    {
      "cell_type": "code",
      "source": [
        "# Load the dataset\n",
        "df = pd.read_csv(\"apple_quality.csv\")\n",
        "\n",
        "# Display the first few rows of the dataset\n",
        "wcorr = df.corr()\n",
        "sns.heatmap(wcorr)\n",
        "df.corr()\n",
        "df.head(9)"
      ],
      "metadata": {
        "colab": {
          "base_uri": "https://localhost:8080/",
          "height": 913
        },
        "id": "1yEkCaRLZc6a",
        "outputId": "af96c5ad-3537-415e-fdb7-cc9660bfb037"
      },
      "execution_count": 118,
      "outputs": [
        {
          "output_type": "stream",
          "name": "stderr",
          "text": [
            "<ipython-input-118-2ef1b8236c50>:5: FutureWarning: The default value of numeric_only in DataFrame.corr is deprecated. In a future version, it will default to False. Select only valid columns or specify the value of numeric_only to silence this warning.\n",
            "  wcorr = df.corr()\n",
            "<ipython-input-118-2ef1b8236c50>:7: FutureWarning: The default value of numeric_only in DataFrame.corr is deprecated. In a future version, it will default to False. Select only valid columns or specify the value of numeric_only to silence this warning.\n",
            "  df.corr()\n"
          ]
        },
        {
          "output_type": "execute_result",
          "data": {
            "text/plain": [
              "   A_id      Size    Weight  Sweetness  Crunchiness  Juiciness  Ripeness  \\\n",
              "0     0 -3.970049 -2.512336   5.346330    -1.012009   1.844900  0.329840   \n",
              "1     1 -1.195217 -2.839257   3.664059     1.588232   0.853286  0.867530   \n",
              "2     2 -0.292024 -1.351282  -1.738429    -0.342616   2.838636 -0.038033   \n",
              "3     3 -0.657196 -2.271627   1.324874    -0.097875   3.637970 -3.413761   \n",
              "4     4  1.364217 -1.296612  -0.384658    -0.553006   3.030874 -1.303849   \n",
              "5     5 -3.425400 -1.409082  -1.913511    -0.555775  -3.853071  1.914616   \n",
              "6     6  1.331606  1.635956   0.875974    -1.677798   3.106344 -1.847417   \n",
              "7     7 -1.995462 -0.428958   1.530644    -0.742972   0.158834  0.974438   \n",
              "8     8 -3.867632 -3.734514   0.986429    -1.207655   2.292873  4.080921   \n",
              "\n",
              "    Acidity Quality  \n",
              "0 -0.491590    good  \n",
              "1 -0.722809    good  \n",
              "2  2.621636     bad  \n",
              "3  0.790723    good  \n",
              "4  0.501984    good  \n",
              "5 -2.981523     bad  \n",
              "6  2.414171    good  \n",
              "7 -1.470125    good  \n",
              "8 -4.871905     bad  "
            ],
            "text/html": [
              "\n",
              "  <div id=\"df-c210dde2-9e2e-4e00-bcf3-2b692bb373b9\" class=\"colab-df-container\">\n",
              "    <div>\n",
              "<style scoped>\n",
              "    .dataframe tbody tr th:only-of-type {\n",
              "        vertical-align: middle;\n",
              "    }\n",
              "\n",
              "    .dataframe tbody tr th {\n",
              "        vertical-align: top;\n",
              "    }\n",
              "\n",
              "    .dataframe thead th {\n",
              "        text-align: right;\n",
              "    }\n",
              "</style>\n",
              "<table border=\"1\" class=\"dataframe\">\n",
              "  <thead>\n",
              "    <tr style=\"text-align: right;\">\n",
              "      <th></th>\n",
              "      <th>A_id</th>\n",
              "      <th>Size</th>\n",
              "      <th>Weight</th>\n",
              "      <th>Sweetness</th>\n",
              "      <th>Crunchiness</th>\n",
              "      <th>Juiciness</th>\n",
              "      <th>Ripeness</th>\n",
              "      <th>Acidity</th>\n",
              "      <th>Quality</th>\n",
              "    </tr>\n",
              "  </thead>\n",
              "  <tbody>\n",
              "    <tr>\n",
              "      <th>0</th>\n",
              "      <td>0</td>\n",
              "      <td>-3.970049</td>\n",
              "      <td>-2.512336</td>\n",
              "      <td>5.346330</td>\n",
              "      <td>-1.012009</td>\n",
              "      <td>1.844900</td>\n",
              "      <td>0.329840</td>\n",
              "      <td>-0.491590</td>\n",
              "      <td>good</td>\n",
              "    </tr>\n",
              "    <tr>\n",
              "      <th>1</th>\n",
              "      <td>1</td>\n",
              "      <td>-1.195217</td>\n",
              "      <td>-2.839257</td>\n",
              "      <td>3.664059</td>\n",
              "      <td>1.588232</td>\n",
              "      <td>0.853286</td>\n",
              "      <td>0.867530</td>\n",
              "      <td>-0.722809</td>\n",
              "      <td>good</td>\n",
              "    </tr>\n",
              "    <tr>\n",
              "      <th>2</th>\n",
              "      <td>2</td>\n",
              "      <td>-0.292024</td>\n",
              "      <td>-1.351282</td>\n",
              "      <td>-1.738429</td>\n",
              "      <td>-0.342616</td>\n",
              "      <td>2.838636</td>\n",
              "      <td>-0.038033</td>\n",
              "      <td>2.621636</td>\n",
              "      <td>bad</td>\n",
              "    </tr>\n",
              "    <tr>\n",
              "      <th>3</th>\n",
              "      <td>3</td>\n",
              "      <td>-0.657196</td>\n",
              "      <td>-2.271627</td>\n",
              "      <td>1.324874</td>\n",
              "      <td>-0.097875</td>\n",
              "      <td>3.637970</td>\n",
              "      <td>-3.413761</td>\n",
              "      <td>0.790723</td>\n",
              "      <td>good</td>\n",
              "    </tr>\n",
              "    <tr>\n",
              "      <th>4</th>\n",
              "      <td>4</td>\n",
              "      <td>1.364217</td>\n",
              "      <td>-1.296612</td>\n",
              "      <td>-0.384658</td>\n",
              "      <td>-0.553006</td>\n",
              "      <td>3.030874</td>\n",
              "      <td>-1.303849</td>\n",
              "      <td>0.501984</td>\n",
              "      <td>good</td>\n",
              "    </tr>\n",
              "    <tr>\n",
              "      <th>5</th>\n",
              "      <td>5</td>\n",
              "      <td>-3.425400</td>\n",
              "      <td>-1.409082</td>\n",
              "      <td>-1.913511</td>\n",
              "      <td>-0.555775</td>\n",
              "      <td>-3.853071</td>\n",
              "      <td>1.914616</td>\n",
              "      <td>-2.981523</td>\n",
              "      <td>bad</td>\n",
              "    </tr>\n",
              "    <tr>\n",
              "      <th>6</th>\n",
              "      <td>6</td>\n",
              "      <td>1.331606</td>\n",
              "      <td>1.635956</td>\n",
              "      <td>0.875974</td>\n",
              "      <td>-1.677798</td>\n",
              "      <td>3.106344</td>\n",
              "      <td>-1.847417</td>\n",
              "      <td>2.414171</td>\n",
              "      <td>good</td>\n",
              "    </tr>\n",
              "    <tr>\n",
              "      <th>7</th>\n",
              "      <td>7</td>\n",
              "      <td>-1.995462</td>\n",
              "      <td>-0.428958</td>\n",
              "      <td>1.530644</td>\n",
              "      <td>-0.742972</td>\n",
              "      <td>0.158834</td>\n",
              "      <td>0.974438</td>\n",
              "      <td>-1.470125</td>\n",
              "      <td>good</td>\n",
              "    </tr>\n",
              "    <tr>\n",
              "      <th>8</th>\n",
              "      <td>8</td>\n",
              "      <td>-3.867632</td>\n",
              "      <td>-3.734514</td>\n",
              "      <td>0.986429</td>\n",
              "      <td>-1.207655</td>\n",
              "      <td>2.292873</td>\n",
              "      <td>4.080921</td>\n",
              "      <td>-4.871905</td>\n",
              "      <td>bad</td>\n",
              "    </tr>\n",
              "  </tbody>\n",
              "</table>\n",
              "</div>\n",
              "    <div class=\"colab-df-buttons\">\n",
              "\n",
              "  <div class=\"colab-df-container\">\n",
              "    <button class=\"colab-df-convert\" onclick=\"convertToInteractive('df-c210dde2-9e2e-4e00-bcf3-2b692bb373b9')\"\n",
              "            title=\"Convert this dataframe to an interactive table.\"\n",
              "            style=\"display:none;\">\n",
              "\n",
              "  <svg xmlns=\"http://www.w3.org/2000/svg\" height=\"24px\" viewBox=\"0 -960 960 960\">\n",
              "    <path d=\"M120-120v-720h720v720H120Zm60-500h600v-160H180v160Zm220 220h160v-160H400v160Zm0 220h160v-160H400v160ZM180-400h160v-160H180v160Zm440 0h160v-160H620v160ZM180-180h160v-160H180v160Zm440 0h160v-160H620v160Z\"/>\n",
              "  </svg>\n",
              "    </button>\n",
              "\n",
              "  <style>\n",
              "    .colab-df-container {\n",
              "      display:flex;\n",
              "      gap: 12px;\n",
              "    }\n",
              "\n",
              "    .colab-df-convert {\n",
              "      background-color: #E8F0FE;\n",
              "      border: none;\n",
              "      border-radius: 50%;\n",
              "      cursor: pointer;\n",
              "      display: none;\n",
              "      fill: #1967D2;\n",
              "      height: 32px;\n",
              "      padding: 0 0 0 0;\n",
              "      width: 32px;\n",
              "    }\n",
              "\n",
              "    .colab-df-convert:hover {\n",
              "      background-color: #E2EBFA;\n",
              "      box-shadow: 0px 1px 2px rgba(60, 64, 67, 0.3), 0px 1px 3px 1px rgba(60, 64, 67, 0.15);\n",
              "      fill: #174EA6;\n",
              "    }\n",
              "\n",
              "    .colab-df-buttons div {\n",
              "      margin-bottom: 4px;\n",
              "    }\n",
              "\n",
              "    [theme=dark] .colab-df-convert {\n",
              "      background-color: #3B4455;\n",
              "      fill: #D2E3FC;\n",
              "    }\n",
              "\n",
              "    [theme=dark] .colab-df-convert:hover {\n",
              "      background-color: #434B5C;\n",
              "      box-shadow: 0px 1px 3px 1px rgba(0, 0, 0, 0.15);\n",
              "      filter: drop-shadow(0px 1px 2px rgba(0, 0, 0, 0.3));\n",
              "      fill: #FFFFFF;\n",
              "    }\n",
              "  </style>\n",
              "\n",
              "    <script>\n",
              "      const buttonEl =\n",
              "        document.querySelector('#df-c210dde2-9e2e-4e00-bcf3-2b692bb373b9 button.colab-df-convert');\n",
              "      buttonEl.style.display =\n",
              "        google.colab.kernel.accessAllowed ? 'block' : 'none';\n",
              "\n",
              "      async function convertToInteractive(key) {\n",
              "        const element = document.querySelector('#df-c210dde2-9e2e-4e00-bcf3-2b692bb373b9');\n",
              "        const dataTable =\n",
              "          await google.colab.kernel.invokeFunction('convertToInteractive',\n",
              "                                                    [key], {});\n",
              "        if (!dataTable) return;\n",
              "\n",
              "        const docLinkHtml = 'Like what you see? Visit the ' +\n",
              "          '<a target=\"_blank\" href=https://colab.research.google.com/notebooks/data_table.ipynb>data table notebook</a>'\n",
              "          + ' to learn more about interactive tables.';\n",
              "        element.innerHTML = '';\n",
              "        dataTable['output_type'] = 'display_data';\n",
              "        await google.colab.output.renderOutput(dataTable, element);\n",
              "        const docLink = document.createElement('div');\n",
              "        docLink.innerHTML = docLinkHtml;\n",
              "        element.appendChild(docLink);\n",
              "      }\n",
              "    </script>\n",
              "  </div>\n",
              "\n",
              "\n",
              "<div id=\"df-50f8661a-80f1-40c3-a562-2232bbf24e8a\">\n",
              "  <button class=\"colab-df-quickchart\" onclick=\"quickchart('df-50f8661a-80f1-40c3-a562-2232bbf24e8a')\"\n",
              "            title=\"Suggest charts\"\n",
              "            style=\"display:none;\">\n",
              "\n",
              "<svg xmlns=\"http://www.w3.org/2000/svg\" height=\"24px\"viewBox=\"0 0 24 24\"\n",
              "     width=\"24px\">\n",
              "    <g>\n",
              "        <path d=\"M19 3H5c-1.1 0-2 .9-2 2v14c0 1.1.9 2 2 2h14c1.1 0 2-.9 2-2V5c0-1.1-.9-2-2-2zM9 17H7v-7h2v7zm4 0h-2V7h2v10zm4 0h-2v-4h2v4z\"/>\n",
              "    </g>\n",
              "</svg>\n",
              "  </button>\n",
              "\n",
              "<style>\n",
              "  .colab-df-quickchart {\n",
              "      --bg-color: #E8F0FE;\n",
              "      --fill-color: #1967D2;\n",
              "      --hover-bg-color: #E2EBFA;\n",
              "      --hover-fill-color: #174EA6;\n",
              "      --disabled-fill-color: #AAA;\n",
              "      --disabled-bg-color: #DDD;\n",
              "  }\n",
              "\n",
              "  [theme=dark] .colab-df-quickchart {\n",
              "      --bg-color: #3B4455;\n",
              "      --fill-color: #D2E3FC;\n",
              "      --hover-bg-color: #434B5C;\n",
              "      --hover-fill-color: #FFFFFF;\n",
              "      --disabled-bg-color: #3B4455;\n",
              "      --disabled-fill-color: #666;\n",
              "  }\n",
              "\n",
              "  .colab-df-quickchart {\n",
              "    background-color: var(--bg-color);\n",
              "    border: none;\n",
              "    border-radius: 50%;\n",
              "    cursor: pointer;\n",
              "    display: none;\n",
              "    fill: var(--fill-color);\n",
              "    height: 32px;\n",
              "    padding: 0;\n",
              "    width: 32px;\n",
              "  }\n",
              "\n",
              "  .colab-df-quickchart:hover {\n",
              "    background-color: var(--hover-bg-color);\n",
              "    box-shadow: 0 1px 2px rgba(60, 64, 67, 0.3), 0 1px 3px 1px rgba(60, 64, 67, 0.15);\n",
              "    fill: var(--button-hover-fill-color);\n",
              "  }\n",
              "\n",
              "  .colab-df-quickchart-complete:disabled,\n",
              "  .colab-df-quickchart-complete:disabled:hover {\n",
              "    background-color: var(--disabled-bg-color);\n",
              "    fill: var(--disabled-fill-color);\n",
              "    box-shadow: none;\n",
              "  }\n",
              "\n",
              "  .colab-df-spinner {\n",
              "    border: 2px solid var(--fill-color);\n",
              "    border-color: transparent;\n",
              "    border-bottom-color: var(--fill-color);\n",
              "    animation:\n",
              "      spin 1s steps(1) infinite;\n",
              "  }\n",
              "\n",
              "  @keyframes spin {\n",
              "    0% {\n",
              "      border-color: transparent;\n",
              "      border-bottom-color: var(--fill-color);\n",
              "      border-left-color: var(--fill-color);\n",
              "    }\n",
              "    20% {\n",
              "      border-color: transparent;\n",
              "      border-left-color: var(--fill-color);\n",
              "      border-top-color: var(--fill-color);\n",
              "    }\n",
              "    30% {\n",
              "      border-color: transparent;\n",
              "      border-left-color: var(--fill-color);\n",
              "      border-top-color: var(--fill-color);\n",
              "      border-right-color: var(--fill-color);\n",
              "    }\n",
              "    40% {\n",
              "      border-color: transparent;\n",
              "      border-right-color: var(--fill-color);\n",
              "      border-top-color: var(--fill-color);\n",
              "    }\n",
              "    60% {\n",
              "      border-color: transparent;\n",
              "      border-right-color: var(--fill-color);\n",
              "    }\n",
              "    80% {\n",
              "      border-color: transparent;\n",
              "      border-right-color: var(--fill-color);\n",
              "      border-bottom-color: var(--fill-color);\n",
              "    }\n",
              "    90% {\n",
              "      border-color: transparent;\n",
              "      border-bottom-color: var(--fill-color);\n",
              "    }\n",
              "  }\n",
              "</style>\n",
              "\n",
              "  <script>\n",
              "    async function quickchart(key) {\n",
              "      const quickchartButtonEl =\n",
              "        document.querySelector('#' + key + ' button');\n",
              "      quickchartButtonEl.disabled = true;  // To prevent multiple clicks.\n",
              "      quickchartButtonEl.classList.add('colab-df-spinner');\n",
              "      try {\n",
              "        const charts = await google.colab.kernel.invokeFunction(\n",
              "            'suggestCharts', [key], {});\n",
              "      } catch (error) {\n",
              "        console.error('Error during call to suggestCharts:', error);\n",
              "      }\n",
              "      quickchartButtonEl.classList.remove('colab-df-spinner');\n",
              "      quickchartButtonEl.classList.add('colab-df-quickchart-complete');\n",
              "    }\n",
              "    (() => {\n",
              "      let quickchartButtonEl =\n",
              "        document.querySelector('#df-50f8661a-80f1-40c3-a562-2232bbf24e8a button');\n",
              "      quickchartButtonEl.style.display =\n",
              "        google.colab.kernel.accessAllowed ? 'block' : 'none';\n",
              "    })();\n",
              "  </script>\n",
              "</div>\n",
              "    </div>\n",
              "  </div>\n"
            ],
            "application/vnd.google.colaboratory.intrinsic+json": {
              "type": "dataframe",
              "variable_name": "df",
              "summary": "{\n  \"name\": \"df\",\n  \"rows\": 4000,\n  \"fields\": [\n    {\n      \"column\": \"A_id\",\n      \"properties\": {\n        \"dtype\": \"number\",\n        \"std\": 1154,\n        \"min\": 0,\n        \"max\": 3999,\n        \"num_unique_values\": 4000,\n        \"samples\": [\n          555,\n          3491,\n          527\n        ],\n        \"semantic_type\": \"\",\n        \"description\": \"\"\n      }\n    },\n    {\n      \"column\": \"Size\",\n      \"properties\": {\n        \"dtype\": \"number\",\n        \"std\": 1.928058688854979,\n        \"min\": -7.151703059,\n        \"max\": 6.406366899,\n        \"num_unique_values\": 4000,\n        \"samples\": [\n          3.099410637,\n          1.439787602,\n          1.20678634\n        ],\n        \"semantic_type\": \"\",\n        \"description\": \"\"\n      }\n    },\n    {\n      \"column\": \"Weight\",\n      \"properties\": {\n        \"dtype\": \"number\",\n        \"std\": 1.6025072141517547,\n        \"min\": -7.149847675,\n        \"max\": 5.79071359,\n        \"num_unique_values\": 4000,\n        \"samples\": [\n          -1.691560679,\n          -0.223976263,\n          -0.508979201\n        ],\n        \"semantic_type\": \"\",\n        \"description\": \"\"\n      }\n    },\n    {\n      \"column\": \"Sweetness\",\n      \"properties\": {\n        \"dtype\": \"number\",\n        \"std\": 1.943440658920452,\n        \"min\": -6.894485494,\n        \"max\": 6.374915513,\n        \"num_unique_values\": 4000,\n        \"samples\": [\n          -3.679364,\n          -0.061448613,\n          1.736206944\n        ],\n        \"semantic_type\": \"\",\n        \"description\": \"\"\n      }\n    },\n    {\n      \"column\": \"Crunchiness\",\n      \"properties\": {\n        \"dtype\": \"number\",\n        \"std\": 1.402757204211963,\n        \"min\": -6.055057805,\n        \"max\": 7.619851801,\n        \"num_unique_values\": 4000,\n        \"samples\": [\n          0.963605627,\n          1.412704629,\n          1.301010753\n        ],\n        \"semantic_type\": \"\",\n        \"description\": \"\"\n      }\n    },\n    {\n      \"column\": \"Juiciness\",\n      \"properties\": {\n        \"dtype\": \"number\",\n        \"std\": 1.9302856730942946,\n        \"min\": -5.961897048,\n        \"max\": 7.364402864,\n        \"num_unique_values\": 4000,\n        \"samples\": [\n          0.538102393,\n          0.885640988,\n          -0.556148589\n        ],\n        \"semantic_type\": \"\",\n        \"description\": \"\"\n      }\n    },\n    {\n      \"column\": \"Ripeness\",\n      \"properties\": {\n        \"dtype\": \"number\",\n        \"std\": 1.8744267757033417,\n        \"min\": -5.864598918,\n        \"max\": 7.237836684,\n        \"num_unique_values\": 4000,\n        \"samples\": [\n          1.660099378,\n          -2.191810607,\n          -1.332051678\n        ],\n        \"semantic_type\": \"\",\n        \"description\": \"\"\n      }\n    },\n    {\n      \"column\": \"Acidity\",\n      \"properties\": {\n        \"dtype\": \"number\",\n        \"std\": 2.110269636420919,\n        \"min\": -7.010538475,\n        \"max\": 7.404736238,\n        \"num_unique_values\": 4000,\n        \"samples\": [\n          -0.544761148,\n          1.952776768,\n          1.009155619\n        ],\n        \"semantic_type\": \"\",\n        \"description\": \"\"\n      }\n    },\n    {\n      \"column\": \"Quality\",\n      \"properties\": {\n        \"dtype\": \"category\",\n        \"num_unique_values\": 2,\n        \"samples\": [\n          \"bad\",\n          \"good\"\n        ],\n        \"semantic_type\": \"\",\n        \"description\": \"\"\n      }\n    }\n  ]\n}"
            }
          },
          "metadata": {},
          "execution_count": 118
        },
        {
          "output_type": "display_data",
          "data": {
            "text/plain": [
              "<Figure size 640x480 with 2 Axes>"
            ],
            "image/png": "[encoded data removed]"
          },
          "metadata": {}
        }
      ]
    },
    {
      "cell_type": "code",
      "source": [
        "# Convert 'Quality' column to binary (1 for 'good', 0 for 'bad')\n",
        "df['Quality'] = df['Quality'].apply(lambda toLabel: 1 if toLabel == 'good' else 0)\n",
        "\n",
        "df.head(9)"
      ],
      "metadata": {
        "colab": {
          "base_uri": "https://localhost:8080/",
          "height": 331
        },
        "id": "cTHxBMAU_pAv",
        "outputId": "3075746d-3de9-489a-9625-9ce545310792"
      },
      "execution_count": 119,
      "outputs": [
        {
          "output_type": "execute_result",
          "data": {
            "text/plain": [
              "   A_id      Size    Weight  Sweetness  Crunchiness  Juiciness  Ripeness  \\\n",
              "0     0 -3.970049 -2.512336   5.346330    -1.012009   1.844900  0.329840   \n",
              "1     1 -1.195217 -2.839257   3.664059     1.588232   0.853286  0.867530   \n",
              "2     2 -0.292024 -1.351282  -1.738429    -0.342616   2.838636 -0.038033   \n",
              "3     3 -0.657196 -2.271627   1.324874    -0.097875   3.637970 -3.413761   \n",
              "4     4  1.364217 -1.296612  -0.384658    -0.553006   3.030874 -1.303849   \n",
              "5     5 -3.425400 -1.409082  -1.913511    -0.555775  -3.853071  1.914616   \n",
              "6     6  1.331606  1.635956   0.875974    -1.677798   3.106344 -1.847417   \n",
              "7     7 -1.995462 -0.428958   1.530644    -0.742972   0.158834  0.974438   \n",
              "8     8 -3.867632 -3.734514   0.986429    -1.207655   2.292873  4.080921   \n",
              "\n",
              "    Acidity  Quality  \n",
              "0 -0.491590        1  \n",
              "1 -0.722809        1  \n",
              "2  2.621636        0  \n",
              "3  0.790723        1  \n",
              "4  0.501984        1  \n",
              "5 -2.981523        0  \n",
              "6  2.414171        1  \n",
              "7 -1.470125        1  \n",
              "8 -4.871905        0  "
            ],
            "text/html": [
              "\n",
              "  <div id=\"df-b72c80c5-24a7-42b0-b70e-657be5f946cf\" class=\"colab-df-container\">\n",
              "    <div>\n",
              "<style scoped>\n",
              "    .dataframe tbody tr th:only-of-type {\n",
              "        vertical-align: middle;\n",
              "    }\n",
              "\n",
              "    .dataframe tbody tr th {\n",
              "        vertical-align: top;\n",
              "    }\n",
              "\n",
              "    .dataframe thead th {\n",
              "        text-align: right;\n",
              "    }\n",
              "</style>\n",
              "<table border=\"1\" class=\"dataframe\">\n",
              "  <thead>\n",
              "    <tr style=\"text-align: right;\">\n",
              "      <th></th>\n",
              "      <th>A_id</th>\n",
              "      <th>Size</th>\n",
              "      <th>Weight</th>\n",
              "      <th>Sweetness</th>\n",
              "      <th>Crunchiness</th>\n",
              "      <th>Juiciness</th>\n",
              "      <th>Ripeness</th>\n",
              "      <th>Acidity</th>\n",
              "      <th>Quality</th>\n",
              "    </tr>\n",
              "  </thead>\n",
              "  <tbody>\n",
              "    <tr>\n",
              "      <th>0</th>\n",
              "      <td>0</td>\n",
              "      <td>-3.970049</td>\n",
              "      <td>-2.512336</td>\n",
              "      <td>5.346330</td>\n",
              "      <td>-1.012009</td>\n",
              "      <td>1.844900</td>\n",
              "      <td>0.329840</td>\n",
              "      <td>-0.491590</td>\n",
              "      <td>1</td>\n",
              "    </tr>\n",
              "    <tr>\n",
              "      <th>1</th>\n",
              "      <td>1</td>\n",
              "      <td>-1.195217</td>\n",
              "      <td>-2.839257</td>\n",
              "      <td>3.664059</td>\n",
              "      <td>1.588232</td>\n",
              "      <td>0.853286</td>\n",
              "      <td>0.867530</td>\n",
              "      <td>-0.722809</td>\n",
              "      <td>1</td>\n",
              "    </tr>\n",
              "    <tr>\n",
              "      <th>2</th>\n",
              "      <td>2</td>\n",
              "      <td>-0.292024</td>\n",
              "      <td>-1.351282</td>\n",
              "      <td>-1.738429</td>\n",
              "      <td>-0.342616</td>\n",
              "      <td>2.838636</td>\n",
              "      <td>-0.038033</td>\n",
              "      <td>2.621636</td>\n",
              "      <td>0</td>\n",
              "    </tr>\n",
              "    <tr>\n",
              "      <th>3</th>\n",
              "      <td>3</td>\n",
              "      <td>-0.657196</td>\n",
              "      <td>-2.271627</td>\n",
              "      <td>1.324874</td>\n",
              "      <td>-0.097875</td>\n",
              "      <td>3.637970</td>\n",
              "      <td>-3.413761</td>\n",
              "      <td>0.790723</td>\n",
              "      <td>1</td>\n",
              "    </tr>\n",
              "    <tr>\n",
              "      <th>4</th>\n",
              "      <td>4</td>\n",
              "      <td>1.364217</td>\n",
              "      <td>-1.296612</td>\n",
              "      <td>-0.384658</td>\n",
              "      <td>-0.553006</td>\n",
              "      <td>3.030874</td>\n",
              "      <td>-1.303849</td>\n",
              "      <td>0.501984</td>\n",
              "      <td>1</td>\n",
              "    </tr>\n",
              "    <tr>\n",
              "      <th>5</th>\n",
              "      <td>5</td>\n",
              "      <td>-3.425400</td>\n",
              "      <td>-1.409082</td>\n",
              "      <td>-1.913511</td>\n",
              "      <td>-0.555775</td>\n",
              "      <td>-3.853071</td>\n",
              "      <td>1.914616</td>\n",
              "      <td>-2.981523</td>\n",
              "      <td>0</td>\n",
              "    </tr>\n",
              "    <tr>\n",
              "      <th>6</th>\n",
              "      <td>6</td>\n",
              "      <td>1.331606</td>\n",
              "      <td>1.635956</td>\n",
              "      <td>0.875974</td>\n",
              "      <td>-1.677798</td>\n",
              "      <td>3.106344</td>\n",
              "      <td>-1.847417</td>\n",
              "      <td>2.414171</td>\n",
              "      <td>1</td>\n",
              "    </tr>\n",
              "    <tr>\n",
              "      <th>7</th>\n",
              "      <td>7</td>\n",
              "      <td>-1.995462</td>\n",
              "      <td>-0.428958</td>\n",
              "      <td>1.530644</td>\n",
              "      <td>-0.742972</td>\n",
              "      <td>0.158834</td>\n",
              "      <td>0.974438</td>\n",
              "      <td>-1.470125</td>\n",
              "      <td>1</td>\n",
              "    </tr>\n",
              "    <tr>\n",
              "      <th>8</th>\n",
              "      <td>8</td>\n",
              "      <td>-3.867632</td>\n",
              "      <td>-3.734514</td>\n",
              "      <td>0.986429</td>\n",
              "      <td>-1.207655</td>\n",
              "      <td>2.292873</td>\n",
              "      <td>4.080921</td>\n",
              "      <td>-4.871905</td>\n",
              "      <td>0</td>\n",
              "    </tr>\n",
              "  </tbody>\n",
              "</table>\n",
              "</div>\n",
              "    <div class=\"colab-df-buttons\">\n",
              "\n",
              "  <div class=\"colab-df-container\">\n",
              "    <button class=\"colab-df-convert\" onclick=\"convertToInteractive('df-b72c80c5-24a7-42b0-b70e-657be5f946cf')\"\n",
              "            title=\"Convert this dataframe to an interactive table.\"\n",
              "            style=\"display:none;\">\n",
              "\n",
              "  <svg xmlns=\"http://www.w3.org/2000/svg\" height=\"24px\" viewBox=\"0 -960 960 960\">\n",
              "    <path d=\"M120-120v-720h720v720H120Zm60-500h600v-160H180v160Zm220 220h160v-160H400v160Zm0 220h160v-160H400v160ZM180-400h160v-160H180v160Zm440 0h160v-160H620v160ZM180-180h160v-160H180v160Zm440 0h160v-160H620v160Z\"/>\n",
              "  </svg>\n",
              "    </button>\n",
              "\n",
              "  <style>\n",
              "    .colab-df-container {\n",
              "      display:flex;\n",
              "      gap: 12px;\n",
              "    }\n",
              "\n",
              "    .colab-df-convert {\n",
              "      background-color: #E8F0FE;\n",
              "      border: none;\n",
              "      border-radius: 50%;\n",
              "      cursor: pointer;\n",
              "      display: none;\n",
              "      fill: #1967D2;\n",
              "      height: 32px;\n",
              "      padding: 0 0 0 0;\n",
              "      width: 32px;\n",
              "    }\n",
              "\n",
              "    .colab-df-convert:hover {\n",
              "      background-color: #E2EBFA;\n",
              "      box-shadow: 0px 1px 2px rgba(60, 64, 67, 0.3), 0px 1px 3px 1px rgba(60, 64, 67, 0.15);\n",
              "      fill: #174EA6;\n",
              "    }\n",
              "\n",
              "    .colab-df-buttons div {\n",
              "      margin-bottom: 4px;\n",
              "    }\n",
              "\n",
              "    [theme=dark] .colab-df-convert {\n",
              "      background-color: #3B4455;\n",
              "      fill: #D2E3FC;\n",
              "    }\n",
              "\n",
              "    [theme=dark] .colab-df-convert:hover {\n",
              "      background-color: #434B5C;\n",
              "      box-shadow: 0px 1px 3px 1px rgba(0, 0, 0, 0.15);\n",
              "      filter: drop-shadow(0px 1px 2px rgba(0, 0, 0, 0.3));\n",
              "      fill: #FFFFFF;\n",
              "    }\n",
              "  </style>\n",
              "\n",
              "    <script>\n",
              "      const buttonEl =\n",
              "        document.querySelector('#df-b72c80c5-24a7-42b0-b70e-657be5f946cf button.colab-df-convert');\n",
              "      buttonEl.style.display =\n",
              "        google.colab.kernel.accessAllowed ? 'block' : 'none';\n",
              "\n",
              "      async function convertToInteractive(key) {\n",
              "        const element = document.querySelector('#df-b72c80c5-24a7-42b0-b70e-657be5f946cf');\n",
              "        const dataTable =\n",
              "          await google.colab.kernel.invokeFunction('convertToInteractive',\n",
              "                                                    [key], {});\n",
              "        if (!dataTable) return;\n",
              "\n",
              "        const docLinkHtml = 'Like what you see? Visit the ' +\n",
              "          '<a target=\"_blank\" href=https://colab.research.google.com/notebooks/data_table.ipynb>data table notebook</a>'\n",
              "          + ' to learn more about interactive tables.';\n",
              "        element.innerHTML = '';\n",
              "        dataTable['output_type'] = 'display_data';\n",
              "        await google.colab.output.renderOutput(dataTable, element);\n",
              "        const docLink = document.createElement('div');\n",
              "        docLink.innerHTML = docLinkHtml;\n",
              "        element.appendChild(docLink);\n",
              "      }\n",
              "    </script>\n",
              "  </div>\n",
              "\n",
              "\n",
              "<div id=\"df-a051d651-7ff3-43ba-98e0-d996b8ef85a6\">\n",
              "  <button class=\"colab-df-quickchart\" onclick=\"quickchart('df-a051d651-7ff3-43ba-98e0-d996b8ef85a6')\"\n",
              "            title=\"Suggest charts\"\n",
              "            style=\"display:none;\">\n",
              "\n",
              "<svg xmlns=\"http://www.w3.org/2000/svg\" height=\"24px\"viewBox=\"0 0 24 24\"\n",
              "     width=\"24px\">\n",
              "    <g>\n",
              "        <path d=\"M19 3H5c-1.1 0-2 .9-2 2v14c0 1.1.9 2 2 2h14c1.1 0 2-.9 2-2V5c0-1.1-.9-2-2-2zM9 17H7v-7h2v7zm4 0h-2V7h2v10zm4 0h-2v-4h2v4z\"/>\n",
              "    </g>\n",
              "</svg>\n",
              "  </button>\n",
              "\n",
              "<style>\n",
              "  .colab-df-quickchart {\n",
              "      --bg-color: #E8F0FE;\n",
              "      --fill-color: #1967D2;\n",
              "      --hover-bg-color: #E2EBFA;\n",
              "      --hover-fill-color: #174EA6;\n",
              "      --disabled-fill-color: #AAA;\n",
              "      --disabled-bg-color: #DDD;\n",
              "  }\n",
              "\n",
              "  [theme=dark] .colab-df-quickchart {\n",
              "      --bg-color: #3B4455;\n",
              "      --fill-color: #D2E3FC;\n",
              "      --hover-bg-color: #434B5C;\n",
              "      --hover-fill-color: #FFFFFF;\n",
              "      --disabled-bg-color: #3B4455;\n",
              "      --disabled-fill-color: #666;\n",
              "  }\n",
              "\n",
              "  .colab-df-quickchart {\n",
              "    background-color: var(--bg-color);\n",
              "    border: none;\n",
              "    border-radius: 50%;\n",
              "    cursor: pointer;\n",
              "    display: none;\n",
              "    fill: var(--fill-color);\n",
              "    height: 32px;\n",
              "    padding: 0;\n",
              "    width: 32px;\n",
              "  }\n",
              "\n",
              "  .colab-df-quickchart:hover {\n",
              "    background-color: var(--hover-bg-color);\n",
              "    box-shadow: 0 1px 2px rgba(60, 64, 67, 0.3), 0 1px 3px 1px rgba(60, 64, 67, 0.15);\n",
              "    fill: var(--button-hover-fill-color);\n",
              "  }\n",
              "\n",
              "  .colab-df-quickchart-complete:disabled,\n",
              "  .colab-df-quickchart-complete:disabled:hover {\n",
              "    background-color: var(--disabled-bg-color);\n",
              "    fill: var(--disabled-fill-color);\n",
              "    box-shadow: none;\n",
              "  }\n",
              "\n",
              "  .colab-df-spinner {\n",
              "    border: 2px solid var(--fill-color);\n",
              "    border-color: transparent;\n",
              "    border-bottom-color: var(--fill-color);\n",
              "    animation:\n",
              "      spin 1s steps(1) infinite;\n",
              "  }\n",
              "\n",
              "  @keyframes spin {\n",
              "    0% {\n",
              "      border-color: transparent;\n",
              "      border-bottom-color: var(--fill-color);\n",
              "      border-left-color: var(--fill-color);\n",
              "    }\n",
              "    20% {\n",
              "      border-color: transparent;\n",
              "      border-left-color: var(--fill-color);\n",
              "      border-top-color: var(--fill-color);\n",
              "    }\n",
              "    30% {\n",
              "      border-color: transparent;\n",
              "      border-left-color: var(--fill-color);\n",
              "      border-top-color: var(--fill-color);\n",
              "      border-right-color: var(--fill-color);\n",
              "    }\n",
              "    40% {\n",
              "      border-color: transparent;\n",
              "      border-right-color: var(--fill-color);\n",
              "      border-top-color: var(--fill-color);\n",
              "    }\n",
              "    60% {\n",
              "      border-color: transparent;\n",
              "      border-right-color: var(--fill-color);\n",
              "    }\n",
              "    80% {\n",
              "      border-color: transparent;\n",
              "      border-right-color: var(--fill-color);\n",
              "      border-bottom-color: var(--fill-color);\n",
              "    }\n",
              "    90% {\n",
              "      border-color: transparent;\n",
              "      border-bottom-color: var(--fill-color);\n",
              "    }\n",
              "  }\n",
              "</style>\n",
              "\n",
              "  <script>\n",
              "    async function quickchart(key) {\n",
              "      const quickchartButtonEl =\n",
              "        document.querySelector('#' + key + ' button');\n",
              "      quickchartButtonEl.disabled = true;  // To prevent multiple clicks.\n",
              "      quickchartButtonEl.classList.add('colab-df-spinner');\n",
              "      try {\n",
              "        const charts = await google.colab.kernel.invokeFunction(\n",
              "            'suggestCharts', [key], {});\n",
              "      } catch (error) {\n",
              "        console.error('Error during call to suggestCharts:', error);\n",
              "      }\n",
              "      quickchartButtonEl.classList.remove('colab-df-spinner');\n",
              "      quickchartButtonEl.classList.add('colab-df-quickchart-complete');\n",
              "    }\n",
              "    (() => {\n",
              "      let quickchartButtonEl =\n",
              "        document.querySelector('#df-a051d651-7ff3-43ba-98e0-d996b8ef85a6 button');\n",
              "      quickchartButtonEl.style.display =\n",
              "        google.colab.kernel.accessAllowed ? 'block' : 'none';\n",
              "    })();\n",
              "  </script>\n",
              "</div>\n",
              "    </div>\n",
              "  </div>\n"
            ],
            "application/vnd.google.colaboratory.intrinsic+json": {
              "type": "dataframe",
              "variable_name": "df",
              "summary": "{\n  \"name\": \"df\",\n  \"rows\": 4000,\n  \"fields\": [\n    {\n      \"column\": \"A_id\",\n      \"properties\": {\n        \"dtype\": \"number\",\n        \"std\": 1154,\n        \"min\": 0,\n        \"max\": 3999,\n        \"num_unique_values\": 4000,\n        \"samples\": [\n          555,\n          3491,\n          527\n        ],\n        \"semantic_type\": \"\",\n        \"description\": \"\"\n      }\n    },\n    {\n      \"column\": \"Size\",\n      \"properties\": {\n        \"dtype\": \"number\",\n        \"std\": 1.928058688854979,\n        \"min\": -7.151703059,\n        \"max\": 6.406366899,\n        \"num_unique_values\": 4000,\n        \"samples\": [\n          3.099410637,\n          1.439787602,\n          1.20678634\n        ],\n        \"semantic_type\": \"\",\n        \"description\": \"\"\n      }\n    },\n    {\n      \"column\": \"Weight\",\n      \"properties\": {\n        \"dtype\": \"number\",\n        \"std\": 1.6025072141517547,\n        \"min\": -7.149847675,\n        \"max\": 5.79071359,\n        \"num_unique_values\": 4000,\n        \"samples\": [\n          -1.691560679,\n          -0.223976263,\n          -0.508979201\n        ],\n        \"semantic_type\": \"\",\n        \"description\": \"\"\n      }\n    },\n    {\n      \"column\": \"Sweetness\",\n      \"properties\": {\n        \"dtype\": \"number\",\n        \"std\": 1.943440658920452,\n        \"min\": -6.894485494,\n        \"max\": 6.374915513,\n        \"num_unique_values\": 4000,\n        \"samples\": [\n          -3.679364,\n          -0.061448613,\n          1.736206944\n        ],\n        \"semantic_type\": \"\",\n        \"description\": \"\"\n      }\n    },\n    {\n      \"column\": \"Crunchiness\",\n      \"properties\": {\n        \"dtype\": \"number\",\n        \"std\": 1.402757204211963,\n        \"min\": -6.055057805,\n        \"max\": 7.619851801,\n        \"num_unique_values\": 4000,\n        \"samples\": [\n          0.963605627,\n          1.412704629,\n          1.301010753\n        ],\n        \"semantic_type\": \"\",\n        \"description\": \"\"\n      }\n    },\n    {\n      \"column\": \"Juiciness\",\n      \"properties\": {\n        \"dtype\": \"number\",\n        \"std\": 1.9302856730942946,\n        \"min\": -5.961897048,\n        \"max\": 7.364402864,\n        \"num_unique_values\": 4000,\n        \"samples\": [\n          0.538102393,\n          0.885640988,\n          -0.556148589\n        ],\n        \"semantic_type\": \"\",\n        \"description\": \"\"\n      }\n    },\n    {\n      \"column\": \"Ripeness\",\n      \"properties\": {\n        \"dtype\": \"number\",\n        \"std\": 1.8744267757033417,\n        \"min\": -5.864598918,\n        \"max\": 7.237836684,\n        \"num_unique_values\": 4000,\n        \"samples\": [\n          1.660099378,\n          -2.191810607,\n          -1.332051678\n        ],\n        \"semantic_type\": \"\",\n        \"description\": \"\"\n      }\n    },\n    {\n      \"column\": \"Acidity\",\n      \"properties\": {\n        \"dtype\": \"number\",\n        \"std\": 2.110269636420919,\n        \"min\": -7.010538475,\n        \"max\": 7.404736238,\n        \"num_unique_values\": 4000,\n        \"samples\": [\n          -0.544761148,\n          1.952776768,\n          1.009155619\n        ],\n        \"semantic_type\": \"\",\n        \"description\": \"\"\n      }\n    },\n    {\n      \"column\": \"Quality\",\n      \"properties\": {\n        \"dtype\": \"number\",\n        \"std\": 0,\n        \"min\": 0,\n        \"max\": 1,\n        \"num_unique_values\": 2,\n        \"samples\": [\n          0,\n          1\n        ],\n        \"semantic_type\": \"\",\n        \"description\": \"\"\n      }\n    }\n  ]\n}"
            }
          },
          "metadata": {},
          "execution_count": 119
        }
      ]
    },
    {
      "cell_type": "markdown",
      "source": [
        "**EVALUATION:**\n",
        "\n",
        "The code does a good job of getting everything set up for analysis. It loads a dataset called \"apple_quality.csv\" and starts by exploring the data, creating a heatmap to show how different variables relate to each other. Then, it adjusts the 'Quality' column to use binary values, making it easier to classify as either 'good' or 'bad'. While the code is effective, it could benefit from some comments or explanations to make it easier for others to understand."
      ],
      "metadata": {
        "id": "3YYijkAx_781"
      }
    },
    {
      "cell_type": "code",
      "source": [
        "X = df.iloc[:,:-1].values  #independent variable array\n",
        "y = df.iloc[:,1].values  #dependent variable vector"
      ],
      "metadata": {
        "id": "h36ucPDMPjmy"
      },
      "execution_count": 120,
      "outputs": []
    },
    {
      "cell_type": "code",
      "source": [
        "regressor = LinearRegression()\n",
        "regressor.fit(X_train,y_train)"
      ],
      "metadata": {
        "colab": {
          "base_uri": "https://localhost:8080/",
          "height": 74
        },
        "id": "BUlnhrkiQMRL",
        "outputId": "6024f159-a920-44e9-cd9a-12e39f943c52"
      },
      "execution_count": 121,
      "outputs": [
        {
          "output_type": "execute_result",
          "data": {
            "text/plain": [
              "LinearRegression()"
            ],
            "text/html": [
              "<style>#sk-container-id-13 {color: black;background-color: white;}#sk-container-id-13 pre{padding: 0;}#sk-container-id-13 div.sk-toggleable {background-color: white;}#sk-container-id-13 label.sk-toggleable__label {cursor: pointer;display: block;width: 100%;margin-bottom: 0;padding: 0.3em;box-sizing: border-box;text-align: center;}#sk-container-id-13 label.sk-toggleable__label-arrow:before {content: \"▸\";float: left;margin-right: 0.25em;color: #696969;}#sk-container-id-13 label.sk-toggleable__label-arrow:hover:before {color: black;}#sk-container-id-13 div.sk-estimator:hover label.sk-toggleable__label-arrow:before {color: black;}#sk-container-id-13 div.sk-toggleable__content {max-height: 0;max-width: 0;overflow: hidden;text-align: left;background-color: #f0f8ff;}#sk-container-id-13 div.sk-toggleable__content pre {margin: 0.2em;color: black;border-radius: 0.25em;background-color: #f0f8ff;}#sk-container-id-13 input.sk-toggleable__control:checked~div.sk-toggleable__content {max-height: 200px;max-width: 100%;overflow: auto;}#sk-container-id-13 input.sk-toggleable__control:checked~label.sk-toggleable__label-arrow:before {content: \"▾\";}#sk-container-id-13 div.sk-estimator input.sk-toggleable__control:checked~label.sk-toggleable__label {background-color: #d4ebff;}#sk-container-id-13 div.sk-label input.sk-toggleable__control:checked~label.sk-toggleable__label {background-color: #d4ebff;}#sk-container-id-13 input.sk-hidden--visually {border: 0;clip: rect(1px 1px 1px 1px);clip: rect(1px, 1px, 1px, 1px);height: 1px;margin: -1px;overflow: hidden;padding: 0;position: absolute;width: 1px;}#sk-container-id-13 div.sk-estimator {font-family: monospace;background-color: #f0f8ff;border: 1px dotted black;border-radius: 0.25em;box-sizing: border-box;margin-bottom: 0.5em;}#sk-container-id-13 div.sk-estimator:hover {background-color: #d4ebff;}#sk-container-id-13 div.sk-parallel-item::after {content: \"\";width: 100%;border-bottom: 1px solid gray;flex-grow: 1;}#sk-container-id-13 div.sk-label:hover label.sk-toggleable__label {background-color: #d4ebff;}#sk-container-id-13 div.sk-serial::before {content: \"\";position: absolute;border-left: 1px solid gray;box-sizing: border-box;top: 0;bottom: 0;left: 50%;z-index: 0;}#sk-container-id-13 div.sk-serial {display: flex;flex-direction: column;align-items: center;background-color: white;padding-right: 0.2em;padding-left: 0.2em;position: relative;}#sk-container-id-13 div.sk-item {position: relative;z-index: 1;}#sk-container-id-13 div.sk-parallel {display: flex;align-items: stretch;justify-content: center;background-color: white;position: relative;}#sk-container-id-13 div.sk-item::before, #sk-container-id-13 div.sk-parallel-item::before {content: \"\";position: absolute;border-left: 1px solid gray;box-sizing: border-box;top: 0;bottom: 0;left: 50%;z-index: -1;}#sk-container-id-13 div.sk-parallel-item {display: flex;flex-direction: column;z-index: 1;position: relative;background-color: white;}#sk-container-id-13 div.sk-parallel-item:first-child::after {align-self: flex-end;width: 50%;}#sk-container-id-13 div.sk-parallel-item:last-child::after {align-self: flex-start;width: 50%;}#sk-container-id-13 div.sk-parallel-item:only-child::after {width: 0;}#sk-container-id-13 div.sk-dashed-wrapped {border: 1px dashed gray;margin: 0 0.4em 0.5em 0.4em;box-sizing: border-box;padding-bottom: 0.4em;background-color: white;}#sk-container-id-13 div.sk-label label {font-family: monospace;font-weight: bold;display: inline-block;line-height: 1.2em;}#sk-container-id-13 div.sk-label-container {text-align: center;}#sk-container-id-13 div.sk-container {/* jupyter's `normalize.less` sets `[hidden] { display: none; }` but bootstrap.min.css set `[hidden] { display: none !important; }` so we also need the `!important` here to be able to override the default hidden behavior on the sphinx rendered scikit-learn.org. See: https://github.com/scikit-learn/scikit-learn/issues/21755 */display: inline-block !important;position: relative;}#sk-container-id-13 div.sk-text-repr-fallback {display: none;}</style><div id=\"sk-container-id-13\" class=\"sk-top-container\"><div class=\"sk-text-repr-fallback\"><pre>LinearRegression()</pre><b>In a Jupyter environment, please rerun this cell to show the HTML representation or trust the notebook. <br />On GitHub, the HTML representation is unable to render, please try loading this page with nbviewer.org.</b></div><div class=\"sk-container\" hidden><div class=\"sk-item\"><div class=\"sk-estimator sk-toggleable\"><input class=\"sk-toggleable__control sk-hidden--visually\" id=\"sk-estimator-id-13\" type=\"checkbox\" checked><label for=\"sk-estimator-id-13\" class=\"sk-toggleable__label sk-toggleable__label-arrow\">LinearRegression</label><div class=\"sk-toggleable__content\"><pre>LinearRegression()</pre></div></div></div></div></div>"
            ]
          },
          "metadata": {},
          "execution_count": 121
        }
      ]
    },
    {
      "cell_type": "code",
      "source": [
        "y_pred = regressor.predict(X_test)\n",
        "y_pred"
      ],
      "metadata": {
        "colab": {
          "base_uri": "https://localhost:8080/"
        },
        "id": "HVYyVptoTd9y",
        "outputId": "41bce62d-ecd2-4995-d192-cd69d5e5bd6d"
      },
      "execution_count": 122,
      "outputs": [
        {
          "output_type": "execute_result",
          "data": {
            "text/plain": [
              "array([0.71760347, 0.61798759, 0.6040021 , 0.43480493, 0.41374741,\n",
              "       0.56818903, 0.40191422, 0.52782417, 0.48259758, 0.46723089,\n",
              "       0.38874533, 0.49277162, 0.28425974, 0.62336658, 0.55720165,\n",
              "       0.50216935, 0.42815365, 0.56930783, 0.45570924, 0.52727368,\n",
              "       0.56590697, 0.46358719, 0.60495433, 0.45243515, 0.65357835,\n",
              "       0.53752858, 0.43649397, 0.47998594, 0.68868151, 0.46663054,\n",
              "       0.6137497 , 0.64655516, 0.43933698, 0.45152806, 0.52114219,\n",
              "       0.55409142, 0.47324148, 0.49213761, 0.59778298, 0.49683519,\n",
              "       0.40029777, 0.47537585, 0.30316773, 0.63978428, 0.28637755,\n",
              "       0.29103244, 0.29512229, 0.55817953, 0.63036519, 0.41584505,\n",
              "       0.5071253 , 0.52989836, 0.40512239, 0.56894694, 0.60075359,\n",
              "       0.61355582, 0.47861964, 0.20275945, 0.33678105, 0.48463214,\n",
              "       0.54304573, 0.61558642, 0.52908301, 0.53956461, 0.44158081,\n",
              "       0.58091559, 0.5725996 , 0.70336623, 0.60835203, 0.70200766,\n",
              "       0.60770779, 0.37761131, 0.57643432, 0.29941926, 0.64685616,\n",
              "       0.63907309, 0.44162916, 0.45225595, 0.25778177, 0.61510159,\n",
              "       0.38731851, 0.33298396, 0.37812668, 0.56106758, 0.67148217,\n",
              "       0.41632222, 0.50527213, 0.40998701, 0.53861865, 0.69048648,\n",
              "       0.43884463, 0.55025635, 0.41044837, 0.6555435 , 0.37637   ,\n",
              "       0.43697459, 0.49271229, 0.43989834, 0.51977241, 0.6325057 ,\n",
              "       0.53966416, 0.66511349, 0.57431127, 0.47659352, 0.41655155,\n",
              "       0.54988756, 0.4962255 , 0.23334117, 0.35985516, 0.53766432,\n",
              "       0.49503906, 0.53381029, 0.48299491, 0.39198036, 0.43182783,\n",
              "       0.31154753, 0.35241984, 0.38571043, 0.33954936, 0.47403577,\n",
              "       0.32523178, 0.56317432, 0.44883687, 0.52944511, 0.57291314,\n",
              "       0.55366886, 0.42345546, 0.49724405, 0.55533177, 0.55728667,\n",
              "       0.36012919, 0.32694554, 0.60148046, 0.44765613, 0.53686594,\n",
              "       0.52809953, 0.65747704, 0.28438056, 0.49917608, 0.52145148,\n",
              "       0.60684815, 0.51481827, 0.67859836, 0.52249487, 0.61106633,\n",
              "       0.4270079 , 0.66403063, 0.56072226, 0.51221171, 0.83794717,\n",
              "       0.41210937, 0.36446612, 0.55620727, 0.78986457, 0.5719281 ,\n",
              "       0.45020283, 0.56272251, 0.38061296, 0.43216777, 0.38792028,\n",
              "       0.47002894, 0.4512897 , 0.33001623, 0.5682439 , 0.52710299,\n",
              "       0.50590784, 0.5305691 , 0.60410077, 0.45688025, 0.26156854,\n",
              "       0.53084591, 0.37286523, 0.49781422, 0.52513757, 0.41617816,\n",
              "       0.41921101, 0.36137015, 0.41522785, 0.52278546, 0.56942593,\n",
              "       0.61383729, 0.43015932, 0.35121908, 0.53068451, 0.41223385,\n",
              "       0.36652348, 0.33661112, 0.28797918, 0.2857019 , 0.50130435,\n",
              "       0.35746648, 0.53313333, 0.39515799, 0.63756294, 0.57002803,\n",
              "       0.61757942, 0.53273944, 0.57854512, 0.59984622, 0.4060926 ,\n",
              "       0.36316405, 0.4911454 , 0.7317149 , 0.54088456, 0.42490249,\n",
              "       0.42374402, 0.53971293, 0.42596251, 0.30170467, 0.61661849,\n",
              "       0.56724521, 0.29100822, 0.43150992, 0.33420045, 0.39868594,\n",
              "       0.4251915 , 0.65824485, 0.67422124, 0.53642704, 0.61372403,\n",
              "       0.42490258, 0.60007462, 0.49092929, 0.24502369, 0.3981838 ,\n",
              "       0.31454507, 0.75586557, 0.42464184, 0.24461542, 0.41292   ,\n",
              "       0.59102529, 0.45456562, 0.5867505 , 0.67059452, 0.64539031,\n",
              "       0.46198057, 0.34790444, 0.56376984, 0.71741919, 0.58136864,\n",
              "       0.56600166, 0.39075781, 0.59937634, 0.55081305, 0.48764637,\n",
              "       0.56265184, 0.6019039 , 0.64860414, 0.49343604, 0.30132548,\n",
              "       0.56785284, 0.70167133, 0.4948477 , 0.50726963, 0.39629099,\n",
              "       0.76173972, 0.51846871, 0.60103145, 0.42825262, 0.39814868,\n",
              "       0.5615074 , 0.39475534, 0.50030974, 0.40178451, 0.5493092 ,\n",
              "       0.40963836, 0.70257935, 0.76365333, 0.50942774, 0.4125665 ,\n",
              "       0.42857521, 0.58900634, 0.41363657, 0.38652051, 0.52863788,\n",
              "       0.57342793, 0.61487723, 0.53760342, 0.53869165, 0.50993019,\n",
              "       0.57735723, 0.42762395, 0.50687892, 0.54856811, 0.63963388,\n",
              "       0.53393266, 0.60106045, 0.38939632, 0.5746606 , 0.55518587,\n",
              "       0.55660212, 0.41515513, 0.58319375, 0.4691658 , 0.49935687,\n",
              "       0.62372565, 0.4189795 , 0.55739283, 0.52436759, 0.6122239 ,\n",
              "       0.45363883, 0.54991693, 0.50069754, 0.51351805, 0.48837562,\n",
              "       0.49700806, 0.46411501, 0.37438502, 0.42061365, 0.58283114,\n",
              "       0.56827843, 0.59527733, 0.51873111, 0.45216842, 0.33510267,\n",
              "       0.47291775, 0.68358124, 0.56392279, 0.47507722, 0.6606652 ,\n",
              "       0.49833315, 0.52523504, 0.76747979, 0.28932232, 0.60528346,\n",
              "       0.48626484, 0.51014225, 0.70481526, 0.51534579, 0.65115125,\n",
              "       0.46200894, 0.47521249, 0.53761957, 0.44633495, 0.56992958,\n",
              "       0.72079395, 0.51499723, 0.45893864, 0.26495607, 0.34653514,\n",
              "       0.30530812, 0.63980736, 0.54924894, 0.3485354 , 0.44151024,\n",
              "       0.40487158, 0.50834882, 0.55551092, 0.53477282, 0.51353014,\n",
              "       0.47837814, 0.5416281 , 0.53851453, 0.53951732, 0.60136587,\n",
              "       0.443688  , 0.65293595, 0.5908892 , 0.47825975, 0.67329814,\n",
              "       0.33347573, 0.43170926, 0.36262503, 0.64096865, 0.68798527,\n",
              "       0.50458144, 0.41082038, 0.29624196, 0.40988149, 0.76749293,\n",
              "       0.37098264, 0.57566173, 0.37497181, 0.39775148, 0.60305758,\n",
              "       0.52170163, 0.62083231, 0.58515207, 0.52676575, 0.50871139,\n",
              "       0.52280641, 0.69420365, 0.56494219, 0.49971639, 0.37230353,\n",
              "       0.52131426, 0.5449061 , 0.69039524, 0.42005679, 0.54794055,\n",
              "       0.40710303, 0.60860749, 0.41747008, 0.31851521, 0.50072485,\n",
              "       0.3980559 , 0.43833012, 0.58669496, 0.32200201, 0.45749471,\n",
              "       0.41073909, 0.475699  , 0.58808667, 0.54799873, 0.64755194,\n",
              "       0.71538709, 0.54766693, 0.35819128, 0.30301469, 0.36139371,\n",
              "       0.54912781, 0.52592838, 0.44844002, 0.51330993, 0.4299864 ,\n",
              "       0.5070488 , 0.38336126, 0.55973556, 0.48049165, 0.79570988,\n",
              "       0.54038196, 0.63598818, 0.46836983, 0.60538447, 0.60985781,\n",
              "       0.48028193, 0.75937484, 0.5946773 , 0.58326247, 0.58890466,\n",
              "       0.3200622 , 0.47738598, 0.45998742, 0.50099864, 0.477503  ,\n",
              "       0.50758114, 0.35266965, 0.53357596, 0.58963674, 0.52863962,\n",
              "       0.38413646, 0.43413823, 0.45303065, 0.65909554, 0.47745091,\n",
              "       0.39089117, 0.53343089, 0.60611119, 0.5375616 , 0.50899551,\n",
              "       0.43192049, 0.56376619, 0.63456798, 0.35084969, 0.55889625,\n",
              "       0.46197019, 0.36389587, 0.50120302, 0.40746002, 0.46449574,\n",
              "       0.49141136, 0.6543065 , 0.63746307, 0.51645725, 0.51794119,\n",
              "       0.41652013, 0.60044045, 0.52869742, 0.44957031, 0.51048771,\n",
              "       0.40838233, 0.24589022, 0.84306479, 0.57675855, 0.49352202,\n",
              "       0.59187045, 0.34429322, 0.48651552, 0.4604602 , 0.41187017,\n",
              "       0.3942497 , 0.49790899, 0.53626498, 0.46345691, 0.37353386,\n",
              "       0.61173952, 0.35069339, 0.41077832, 0.35149603, 0.57484379,\n",
              "       0.33056318, 0.56512453, 0.44147256, 0.66536191, 0.37828768,\n",
              "       0.43244742, 0.32883792, 0.39151915, 0.56797125, 0.44792809,\n",
              "       0.54049071, 0.72160096, 0.58762808, 0.62975307, 0.66192227,\n",
              "       0.5785503 , 0.63030782, 0.50654934, 0.52406975, 0.63856973,\n",
              "       0.66022153, 0.58406482, 0.77174383, 0.51211006, 0.17292638,\n",
              "       0.44843198, 0.54972851, 0.50276281, 0.66660604, 0.32627536,\n",
              "       0.69808584, 0.46634596, 0.50153035, 0.54798701, 0.42671872,\n",
              "       0.54079148, 0.34694578, 0.56023915, 0.4559847 , 0.53695145,\n",
              "       0.47203668, 0.46111744, 0.56049038, 0.76075968, 0.3618811 ,\n",
              "       0.58593797, 0.61290665, 0.51516369, 0.43429425, 0.49192592,\n",
              "       0.35483957, 0.49370288, 0.55620598, 0.53682358, 0.36104868,\n",
              "       0.31197825, 0.50703491, 0.60017595, 0.5600742 , 0.45102367,\n",
              "       0.3096106 , 0.68499706, 0.62292879, 0.335861  , 0.54463943,\n",
              "       0.50270729, 0.38839041, 0.42884081, 0.40288989, 0.46996281,\n",
              "       0.61149416, 0.45033057, 0.56094534, 0.65693131, 0.6588336 ,\n",
              "       0.60082849, 0.44388117, 0.32862435, 0.37698981, 0.54750565,\n",
              "       0.44429245, 0.48185687, 0.339445  , 0.35524164, 0.344644  ,\n",
              "       0.35419889, 0.58114424, 0.49580357, 0.28274435, 0.37343489,\n",
              "       0.44958073, 0.59772788, 0.52213362, 0.28143963, 0.64374828,\n",
              "       0.5642151 , 0.35845782, 0.3500857 , 0.23617262, 0.56437656,\n",
              "       0.48794162, 0.53658913, 0.74193269, 0.36820994, 0.53337651,\n",
              "       0.44637514, 0.52656997, 0.78611496, 0.44557358, 0.64602488,\n",
              "       0.38522216, 0.56705459, 0.37253725, 0.29353958, 0.30558867,\n",
              "       0.41493176, 0.55150078, 0.36436512, 0.51504563, 0.7064307 ,\n",
              "       0.48606926, 0.44470203, 0.45687394, 0.71251085, 0.7497869 ,\n",
              "       0.32882695, 0.271934  , 0.28004829, 0.61631169, 0.52070327,\n",
              "       0.24436109, 0.51145999, 0.45247979, 0.42681941, 0.40086105,\n",
              "       0.48575572, 0.31269523, 0.40606409, 0.55439416, 0.36177886,\n",
              "       0.5430984 , 0.45889046, 0.33909162, 0.6804027 , 0.41621292,\n",
              "       0.60846186, 0.57878389, 0.47734253, 0.63071125, 0.41186355,\n",
              "       0.59943013, 0.64172184, 0.43824244, 0.66064485, 0.53803295,\n",
              "       0.46710712, 0.58642546, 0.65546188, 0.478054  , 0.47189487,\n",
              "       0.38051379, 0.56744953, 0.53894811, 0.31274964, 0.59436558,\n",
              "       0.52848547, 0.57662143, 0.35038145, 0.3798482 , 0.3714768 ,\n",
              "       0.48775877, 0.73784197, 0.37870262, 0.44608298, 0.60353764,\n",
              "       0.3908571 , 0.49161423, 0.5326019 , 0.52907208, 0.66694287,\n",
              "       0.27746996, 0.43976644, 0.66836623, 0.55725159, 0.36999831,\n",
              "       0.48026086, 0.42148163, 0.58322783, 0.26077143, 0.51435952,\n",
              "       0.57243063, 0.74056769, 0.42756595, 0.65269558, 0.45819342,\n",
              "       0.62811793, 0.51707427, 0.48035475, 0.462739  , 0.60615567,\n",
              "       0.5768832 , 0.4800729 , 0.51553227, 0.50808613, 0.28194823,\n",
              "       0.19265293, 0.6106199 , 0.63961983, 0.33555856, 0.40332557,\n",
              "       0.47788717, 0.7043464 , 0.50479094, 0.48831672, 0.48228144,\n",
              "       0.56480717, 0.45327267, 0.58392914, 0.34699086, 0.39920954,\n",
              "       0.48933034, 0.6436854 , 0.59625289, 0.48653914, 0.56376068,\n",
              "       0.35142332, 0.80081791, 0.41205394, 0.48546132, 0.49625896,\n",
              "       0.48444984, 0.48688489, 0.62282901, 0.69150099, 0.63347119,\n",
              "       0.54112966, 0.3367317 , 0.51422748, 0.5018706 , 0.47986044,\n",
              "       0.62775933, 0.52229694, 0.56490205, 0.21699935, 0.44859409,\n",
              "       0.58089951, 0.24533629, 0.42497749, 0.59949078, 0.5154635 ,\n",
              "       0.80315819, 0.48734788, 0.52788977, 0.65444861, 0.53302992,\n",
              "       0.45270281, 0.51966901, 0.51594059, 0.40021084, 0.63419356,\n",
              "       0.25101003, 0.74134559, 0.47114807, 0.61983295, 0.48081404,\n",
              "       0.60443548, 0.4071414 , 0.49497527, 0.73072439, 0.40817266,\n",
              "       0.44947781, 0.43734468, 0.35361171, 0.52406843, 0.63718652,\n",
              "       0.47098632, 0.4683789 , 0.24002043, 0.50360554, 0.44467628,\n",
              "       0.5671387 , 0.66775403, 0.38600107, 0.37049586, 0.45821687,\n",
              "       0.38588226, 0.44384546, 0.61443479, 0.50204698, 0.58471172,\n",
              "       0.38669255, 0.43190048, 0.44057478, 0.65613047, 0.62681291,\n",
              "       0.45059143, 0.47910425, 0.47553782, 0.58183025, 0.53315042,\n",
              "       0.75131772, 0.29743379, 0.68068742, 0.43445156, 0.47298274,\n",
              "       0.61904874, 0.64266797, 0.47960577, 0.47489173, 0.560873  ])"
            ]
          },
          "metadata": {},
          "execution_count": 122
        }
      ]
    },
    {
      "cell_type": "code",
      "source": [
        "y_test"
      ],
      "metadata": {
        "colab": {
          "base_uri": "https://localhost:8080/"
        },
        "id": "eLzimzOxTh8O",
        "outputId": "0ebdf129-0140-475f-8cf1-6ef59b1dd002"
      },
      "execution_count": 124,
      "outputs": [
        {
          "output_type": "execute_result",
          "data": {
            "text/plain": [
              "array([1, 0, 0, 1, 0, 0, 0, 0, 1, 1, 1, 1, 0, 1, 1, 0, 0, 0, 0, 0, 0, 0,\n",
              "       1, 1, 1, 0, 0, 1, 1, 0, 1, 0, 0, 0, 0, 1, 0, 1, 1, 1, 0, 1, 0, 1,\n",
              "       0, 1, 1, 1, 0, 0, 1, 1, 0, 0, 1, 0, 0, 0, 1, 0, 0, 1, 1, 1, 0, 1,\n",
              "       1, 1, 0, 1, 1, 0, 1, 0, 1, 1, 1, 0, 0, 1, 0, 1, 0, 1, 1, 0, 0, 1,\n",
              "       1, 0, 0, 0, 0, 1, 1, 1, 0, 0, 1, 1, 1, 1, 0, 0, 1, 0, 0, 0, 0, 0,\n",
              "       1, 1, 0, 0, 0, 0, 0, 0, 0, 1, 0, 0, 1, 0, 0, 1, 1, 0, 0, 1, 0, 1,\n",
              "       1, 1, 1, 0, 0, 0, 1, 0, 1, 0, 1, 0, 1, 0, 1, 1, 0, 1, 0, 1, 1, 1,\n",
              "       1, 0, 0, 1, 0, 0, 0, 1, 0, 1, 1, 0, 0, 1, 0, 1, 0, 1, 1, 1, 0, 0,\n",
              "       1, 0, 1, 1, 0, 1, 0, 0, 0, 1, 1, 0, 0, 0, 1, 0, 0, 0, 0, 1, 0, 1,\n",
              "       0, 1, 0, 1, 1, 0, 0, 1, 0, 0, 0, 0, 1, 1, 1, 0, 1, 1, 1, 0, 0, 1,\n",
              "       0, 1, 1, 0, 0, 0, 1, 0, 0, 1, 1, 0, 1, 1, 1, 1, 1, 1, 1, 0, 0, 0,\n",
              "       1, 0, 0, 1, 1, 0, 0, 0, 1, 1, 0, 1, 0, 1, 0, 1, 0, 0, 0, 0, 1, 0,\n",
              "       1, 0, 0, 1, 0, 0, 0, 1, 0, 0, 0, 1, 0, 1, 0, 0, 1, 1, 0, 0, 1, 0,\n",
              "       1, 0, 0, 0, 0, 1, 1, 0, 0, 1, 0, 1, 1, 1, 0, 1, 1, 1, 0, 1, 0, 1,\n",
              "       0, 1, 1, 1, 1, 0, 0, 0, 1, 1, 1, 1, 1, 0, 1, 0, 1, 1, 0, 0, 0, 0,\n",
              "       0, 0, 0, 0, 0, 1, 1, 0, 0, 0, 0, 1, 1, 0, 0, 1, 1, 0, 1, 1, 1, 0,\n",
              "       0, 0, 1, 1, 0, 1, 0, 0, 1, 1, 1, 1, 1, 0, 0, 0, 1, 1, 1, 0, 1, 1,\n",
              "       1, 0, 1, 1, 0, 0, 1, 1, 1, 1, 1, 0, 0, 0, 1, 1, 0, 0, 0, 0, 1, 0,\n",
              "       1, 0, 1, 1, 0, 0, 0, 0, 1, 0, 1, 1, 0, 1, 0, 1, 0, 1, 1, 0, 0, 1,\n",
              "       1, 1, 0, 0, 0, 1, 1, 0, 1, 1, 0, 1, 0, 0, 0, 1, 1, 0, 0, 1, 1, 1,\n",
              "       1, 0, 1, 1, 0, 1, 1, 1, 0, 0, 0, 1, 1, 0, 1, 0, 1, 1, 0, 0, 0, 1,\n",
              "       1, 1, 0, 0, 1, 0, 1, 1, 0, 0, 1, 1, 1, 1, 0, 1, 0, 1, 0, 0, 1, 0,\n",
              "       0, 1, 0, 1, 1, 1, 1, 0, 1, 0, 0, 1, 0, 1, 0, 0, 1, 0, 1, 0, 0, 1,\n",
              "       1, 1, 1, 0, 1, 0, 1, 1, 0, 0, 0, 1, 1, 1, 1, 0, 1, 0, 1, 0, 0, 1,\n",
              "       1, 1, 1, 0, 0, 1, 1, 0, 1, 1, 0, 0, 1, 0, 0, 1, 0, 0, 1, 1, 1, 0,\n",
              "       1, 1, 1, 0, 1, 0, 0, 0, 0, 0, 1, 0, 0, 1, 0, 1, 0, 1, 1, 1, 0, 1,\n",
              "       1, 0, 1, 0, 1, 0, 1, 0, 0, 0, 1, 0, 1, 1, 0, 0, 1, 1, 1, 0, 1, 0,\n",
              "       1, 0, 0, 1, 1, 1, 1, 0, 1, 0, 0, 0, 1, 0, 0, 1, 0, 0, 1, 1, 1, 1,\n",
              "       0, 0, 1, 1, 0, 0, 0, 0, 1, 1, 0, 0, 1, 0, 1, 1, 0, 0, 0, 0, 1, 0,\n",
              "       1, 1, 1, 1, 1, 1, 1, 0, 1, 1, 1, 1, 0, 0, 0, 1, 1, 0, 0, 0, 0, 1,\n",
              "       1, 1, 1, 0, 1, 0, 0, 0, 0, 1, 0, 0, 0, 1, 0, 0, 0, 1, 0, 0, 0, 1,\n",
              "       1, 0, 0, 1, 0, 1, 0, 1, 0, 1, 0, 0, 0, 0, 1, 1, 0, 0, 0, 1, 1, 0,\n",
              "       1, 1, 1, 1, 0, 0, 0, 0, 1, 1, 1, 0, 1, 1, 1, 1, 0, 1, 0, 1, 0, 0,\n",
              "       1, 0, 0, 1, 1, 1, 0, 0, 0, 1, 1, 0, 0, 1, 1, 1, 0, 1, 1, 1, 1, 0,\n",
              "       0, 1, 0, 1, 0, 1, 1, 0, 0, 1, 1, 1, 0, 0, 1, 1, 1, 1, 0, 1, 0, 0,\n",
              "       1, 1, 0, 1, 1, 0, 0, 1, 0, 0, 1, 1, 1, 0, 0, 0, 0, 0, 0, 1, 1, 0,\n",
              "       1, 0, 0, 0, 1, 1, 1, 1])"
            ]
          },
          "metadata": {},
          "execution_count": 124
        }
      ]
    },
    {
      "cell_type": "code",
      "source": [
        "X = df[['Size']].values  # Independent variable array\n",
        "y = df['Quality'].values  # Dependent variable vector\n",
        "\n",
        "# Split the data into training and testing sets\n",
        "X_train, X_test, y_train, y_test = train_test_split(X, y, test_size=0.2, random_state=42)\n",
        "\n",
        "# Fit the model\n",
        "regressor = LinearRegression()\n",
        "regressor.fit(X_train, y_train)\n",
        "\n",
        "# Make predictions\n",
        "y_pred = regressor.predict(X_test)\n"
      ],
      "metadata": {
        "id": "kuK4qeODQtN9"
      },
      "execution_count": 125,
      "outputs": []
    },
    {
      "cell_type": "code",
      "source": [
        "# TRAINING SET\n",
        "plt.scatter(X_train, y_train, color='red')\n",
        "plt.plot(X_train, regressor.predict(X_train), color='blue')\n",
        "plt.title(\"Training set\")\n",
        "plt.xlabel(\"Quality\")\n",
        "plt.ylabel(\"Size\")\n",
        "plt.show()"
      ],
      "metadata": {
        "colab": {
          "base_uri": "https://localhost:8080/",
          "height": 472
        },
        "id": "O3kTvfXkWFi0",
        "outputId": "d1d6e484-4899-4f90-949b-547926c7cad8"
      },
      "execution_count": 126,
      "outputs": [
        {
          "output_type": "display_data",
          "data": {
            "text/plain": [
              "<Figure size 640x480 with 1 Axes>"
            ],
            "image/png": "[encoded data removed]"
          },
          "metadata": {}
        }
      ]
    },
    {
      "cell_type": "markdown",
      "source": [
        "When we compare what our model predicted (y_pred) with the real values (y_test), it helps us understand how well our model works on new data. The scatter plot shows us how 'Size' and 'Quality' are related in our training set. The red dots represent the actual 'Quality' for different 'Size' values, and the blue line is the line our model drew through those points. If the dots are close to the line, it means 'Size' and 'Quality' are linked, which suggests our linear regression model is a good fit for this data. To make our model better, we might try different methods or tweak how we're using this one, depending on how well it works with new data and what we need it to do."
      ],
      "metadata": {
        "id": "2eaccq6TWoSV"
      }
    },
    {
      "cell_type": "markdown",
      "source": [
        "**EVALUATION**\n",
        "\n",
        "In the scatter plot of the training set, it's noticeable that the blue regression line doesn't intersect with any of the red dots representing the actual 'Quality' values. This indicates a lack of alignment between the model's predictions and the real 'Quality' values in the training data."
      ],
      "metadata": {
        "id": "U-pJoWr1X460"
      }
    },
    {
      "cell_type": "code",
      "source": [
        "##TESTING TEST\n",
        "\n",
        "plt.scatter(X_test, y_test, color='red')\n",
        "plt.plot(X_train, regressor.predict(X_train), color='blue') # plotting the regression line\n",
        "\n",
        "plt.title(\"Testing set\")\n",
        "\n",
        "plt.xlabel(\"Quality\")\n",
        "plt.ylabel(\"Size\")\n",
        "plt.show()"
      ],
      "metadata": {
        "colab": {
          "base_uri": "https://localhost:8080/",
          "height": 472
        },
        "id": "uLJ7gIfuUd3Y",
        "outputId": "236968c3-bc07-47c7-84e5-2c0c727ddd6b"
      },
      "execution_count": 127,
      "outputs": [
        {
          "output_type": "display_data",
          "data": {
            "text/plain": [
              "<Figure size 640x480 with 1 Axes>"
            ],
            "image/png": "[encoded data removed]"
          },
          "metadata": {}
        }
      ]
    },
    {
      "cell_type": "markdown",
      "source": [
        "In the scatter plot for the testing set, we can see how 'Size' and 'Quality' are connected based on new, unseen data. The red dots show the actual 'Quality' values for different 'Size' measurements in the testing set. Meanwhile, the blue line represents the guess our model made using the training data, trying to predict 'Quality' from 'Size'."
      ],
      "metadata": {
        "id": "RkdGnwFvXR6z"
      }
    },
    {
      "cell_type": "markdown",
      "source": [
        "**EVALUATION**\n",
        "\n",
        "In the scatter plot of the testing set, it's notable that the blue regression line doesn't intersect with any of the red dots representing the actual 'Quality' values. This indicates a discrepancy between the predictions made by our model and the real 'Quality' values in the testing data."
      ],
      "metadata": {
        "id": "hUr0RaWxXlxI"
      }
    },
    {
      "cell_type": "markdown",
      "source": [
        "https://www.w3schools.com/python/python_ml_linear_regression.asp\n",
        "\n",
        "https://www.askpython.com/python/examples/linear-regression-in-python"
      ],
      "metadata": {
        "id": "F6r4ptsIK-C9"
      }
    },
    {
      "cell_type": "markdown",
      "source": [
        "## **SINGULAR REGRESSION**"
      ],
      "metadata": {
        "id": "nYAYVmQRAeC7"
      }
    },
    {
      "cell_type": "code",
      "source": [
        "# Given dataset\n",
        "df = {\n",
        "    \"A_id\": [0, 1, 2, 3, 4, 5, 6, 7, 8, 9],\n",
        "    \"Size\": [-3.970049, -1.195217, -0.292024, -0.657196, 1.364217, -3.425400, 1.331606, -1.995462, -3.867632, -0.727983],\n",
        "    \"Quality\": [1, 1, 0, 1, 1, 0, 1, 1, 0, 0]\n",
        "}\n",
        "\n",
        "# Convert to DataFrame\n",
        "df = pd.DataFrame(df)\n",
        "\n",
        "# Extract features (X) and target variable (y)\n",
        "X = df[['Size']]\n",
        "y = df['Quality']\n",
        "\n",
        "# Create and fit the model\n",
        "model = LinearRegression()\n",
        "model.fit(X, y)\n",
        "\n",
        "# Print the coefficients\n",
        "print(\"Intercept:\", model.intercept_)\n",
        "print(\"Coefficient:\", model.coef_)\n"
      ],
      "metadata": {
        "colab": {
          "base_uri": "https://localhost:8080/"
        },
        "id": "d_CePfEoiGWa",
        "outputId": "1a98c817-28ca-4871-f95f-99ca85623a9c"
      },
      "execution_count": 128,
      "outputs": [
        {
          "output_type": "stream",
          "name": "stdout",
          "text": [
            "Intercept: 0.7144685679311472\n",
            "Coefficient: [0.08520087]\n"
          ]
        }
      ]
    },
    {
      "cell_type": "code",
      "source": [
        "# Create scatter plot and linear regression line using Seaborn and Matplotlib\n",
        "plt.scatter(X, y, label='Data points (Size, Quality)')\n",
        "sns.regplot(x=X, y=y, line_kws={'color': 'red'}, scatter=False, label='Linear Regression Line')\n",
        "\n",
        "# Set plot titles and labels\n",
        "plt.title('Singular Linear Regression')\n",
        "plt.xlabel('Size')\n",
        "plt.ylabel('Quality')\n",
        "plt.legend(loc='center left', frameon=True)\n",
        "plt.show()"
      ],
      "metadata": {
        "colab": {
          "base_uri": "https://localhost:8080/",
          "height": 472
        },
        "id": "jmMjI8lGiNTJ",
        "outputId": "83e4c4f1-558b-4507-b4a5-93168b9338f0"
      },
      "execution_count": 129,
      "outputs": [
        {
          "output_type": "display_data",
          "data": {
            "text/plain": [
              "<Figure size 640x480 with 1 Axes>"
            ],
            "image/png": "[encoded data removed]"
          },
          "metadata": {}
        }
      ]
    },
    {
      "cell_type": "markdown",
      "source": [
        "This code generates a graph displaying the relationship between the size of apples and their quality. The scatter plot shows individual data points, while the red line represents the average trend in the data. If the line slopes upwards, it indicates that larger apples generally have higher quality, while a downward slope suggests the opposite. This visual representation helps us understand how apple size relates to their overall quality.\n",
        "This suggests that apples with larger sizes tend to have higher quality ratings"
      ],
      "metadata": {
        "id": "Q28N8-nWHv92"
      }
    },
    {
      "cell_type": "markdown",
      "source": [
        "**EVALUATION**\n",
        "\n",
        "The red regression line indicates an upward trend, suggesting a positive correlation between 'Size' and 'Quality'. As apple size increases, there's a tendency for quality to also increase. The dataset illustrates a positive correlation between apple size and quality, indicating larger apples are often perceived as higher quality."
      ],
      "metadata": {
        "id": "rpKWCnhIYgHe"
      }
    },
    {
      "cell_type": "code",
      "source": [
        "correlation = df['Size'].corr(df['Quality'])\n",
        "print(\"Correlation coefficient between Size and Quality:\", correlation)"
      ],
      "metadata": {
        "colab": {
          "base_uri": "https://localhost:8080/"
        },
        "id": "rIijQRaxEnrI",
        "outputId": "f26cfcbf-4e04-465b-9393-5b9481c4b4fe"
      },
      "execution_count": 130,
      "outputs": [
        {
          "output_type": "stream",
          "name": "stdout",
          "text": [
            "Correlation coefficient between Size and Quality: 0.323009237638627\n"
          ]
        }
      ]
    },
    {
      "cell_type": "markdown",
      "source": [
        "The correlation coefficient between 'Size' and 'Quality' is about 0.32. This means there's a moderate positive relationship between the two: when apple size increases, their quality tends to increase too, but it's not a super strong connection."
      ],
      "metadata": {
        "id": "HJf2p22NWsaH"
      }
    },
    {
      "cell_type": "markdown",
      "source": [
        "References:\n",
        "\n",
        "https://www.w3schools.com/python/python_ml_scatterplot.asp\n",
        "\n",
        "https://sthalles.github.io/svd-for-regression/\n",
        "\n",
        "\n"
      ],
      "metadata": {
        "id": "_xc61KepLBQo"
      }
    },
    {
      "cell_type": "markdown",
      "source": [
        "**EVALUATION:**\n",
        "\n",
        "This code creates a scatter plot with a linear regression line to show the relationship between apple size and quality. The correlation coefficient indicates a weak positive correlation between the two variables."
      ],
      "metadata": {
        "id": "CCYz7AO2U0Xt"
      }
    },
    {
      "cell_type": "markdown",
      "source": [
        "## **MULTIPLE LINEAR REGRESSION**"
      ],
      "metadata": {
        "id": "sNYklUMCFA_M"
      }
    },
    {
      "cell_type": "code",
      "source": [
        "\n",
        "df = {\n",
        "    'A_id': list(range(20)),\n",
        "    'Size': [-3.970049, -1.195217, -0.292024, -0.657196, 1.364217, -3.425400, 1.331606, -1.995462, -3.867632, -0.727983, -2.699336, 2.450960, -0.170812, -1.345531, 2.839581, -2.659887, -1.468952, -0.074370, -0.302364, -2.108050],\n",
        "    'Weight': [-2.512336, -2.839257, -1.351282, -2.271627, -1.296612, -1.409082, 1.635956, -0.428958, -3.734514, -0.442820, -1.329507, -0.564177, -1.867271, -1.623701, -0.344798, -2.795684, -1.950360, -4.714750, 1.724396, 0.356467],\n",
        "    'Sweetness': [5.346330, 3.664059, -1.738429, 1.324874, -0.384658, -1.913511, 0.875974, 1.530644, 0.986429, -4.092223, -1.418507, -1.635041, -1.771845, 2.044144, -1.019797, 4.230404, -2.214373, 0.249768, -2.442337, -1.156193],\n",
        "    'Crunchiness': [-1.012009, 1.588232, -0.342616, -0.097875, -0.553006, -0.555775, -1.677798, -0.742972, -1.207655, 0.597513, -0.625546, 0.942400, 2.413155, 1.754813, 0.894581, 0.697550, 0.909759, 2.935319, 3.465108, 4.326723],\n",
        "    'Juiciness': [1.844900, 0.853286, 2.838636, 3.637970, 3.030874, -3.853071, 3.106344, 0.158834, 2.292873, 0.393714, 2.371074, -2.087317, -3.094555, 0.997567, -1.300061, 2.180911, 2.864449, 1.409755, 0.449792, 1.561543],\n",
        "    'Ripeness': [0.329840, 0.867530, -0.038033, -3.413761, -1.303849, 1.914616, -1.847417, 0.974438, 4.080921, 1.620857, 3.403165, 1.214322, -0.624884, 0.434180, 0.582379, -0.088775, 3.965956, -2.643810, -0.074362, -4.630174],\n",
        "    'Acidity': [-0.491590, -0.722809, 2.621636, 0.790723, 0.501984, -2.981523, 2.414171, -1.470125, -4.871905, 2.185608, -2.810808, 1.294324, -2.076114, 1.724026, 1.709708, -1.083621, -0.558209, 1.250970, 2.493782, -1.376657],\n",
        "    'Quality': [1, 1, 0, 1, 1, 0, 1, 1, 0, 0, 0, 1, 0, 1, 1, 1, 0, 1, 0, 1]\n",
        "}\n",
        "\n",
        "df = pd.DataFrame(df)\n",
        "df.head(20)\n"
      ],
      "metadata": {
        "colab": {
          "base_uri": "https://localhost:8080/",
          "height": 676
        },
        "id": "1pZaaUfld4e9",
        "outputId": "00a18d82-e632-46d0-a8e4-9a64c5fd33fe"
      },
      "execution_count": 131,
      "outputs": [
        {
          "output_type": "execute_result",
          "data": {
            "text/plain": [
              "    A_id      Size    Weight  Sweetness  Crunchiness  Juiciness  Ripeness  \\\n",
              "0      0 -3.970049 -2.512336   5.346330    -1.012009   1.844900  0.329840   \n",
              "1      1 -1.195217 -2.839257   3.664059     1.588232   0.853286  0.867530   \n",
              "2      2 -0.292024 -1.351282  -1.738429    -0.342616   2.838636 -0.038033   \n",
              "3      3 -0.657196 -2.271627   1.324874    -0.097875   3.637970 -3.413761   \n",
              "4      4  1.364217 -1.296612  -0.384658    -0.553006   3.030874 -1.303849   \n",
              "5      5 -3.425400 -1.409082  -1.913511    -0.555775  -3.853071  1.914616   \n",
              "6      6  1.331606  1.635956   0.875974    -1.677798   3.106344 -1.847417   \n",
              "7      7 -1.995462 -0.428958   1.530644    -0.742972   0.158834  0.974438   \n",
              "8      8 -3.867632 -3.734514   0.986429    -1.207655   2.292873  4.080921   \n",
              "9      9 -0.727983 -0.442820  -4.092223     0.597513   0.393714  1.620857   \n",
              "10    10 -2.699336 -1.329507  -1.418507    -0.625546   2.371074  3.403165   \n",
              "11    11  2.450960 -0.564177  -1.635041     0.942400  -2.087317  1.214322   \n",
              "12    12 -0.170812 -1.867271  -1.771845     2.413155  -3.094555 -0.624884   \n",
              "13    13 -1.345531 -1.623701   2.044144     1.754813   0.997567  0.434180   \n",
              "14    14  2.839581 -0.344798  -1.019797     0.894581  -1.300061  0.582379   \n",
              "15    15 -2.659887 -2.795684   4.230404     0.697550   2.180911 -0.088775   \n",
              "16    16 -1.468952 -1.950360  -2.214373     0.909759   2.864449  3.965956   \n",
              "17    17 -0.074370 -4.714750   0.249768     2.935319   1.409755 -2.643810   \n",
              "18    18 -0.302364  1.724396  -2.442337     3.465108   0.449792 -0.074362   \n",
              "19    19 -2.108050  0.356467  -1.156193     4.326723   1.561543 -4.630174   \n",
              "\n",
              "     Acidity  Quality  \n",
              "0  -0.491590        1  \n",
              "1  -0.722809        1  \n",
              "2   2.621636        0  \n",
              "3   0.790723        1  \n",
              "4   0.501984        1  \n",
              "5  -2.981523        0  \n",
              "6   2.414171        1  \n",
              "7  -1.470125        1  \n",
              "8  -4.871905        0  \n",
              "9   2.185608        0  \n",
              "10 -2.810808        0  \n",
              "11  1.294324        1  \n",
              "12 -2.076114        0  \n",
              "13  1.724026        1  \n",
              "14  1.709708        1  \n",
              "15 -1.083621        1  \n",
              "16 -0.558209        0  \n",
              "17  1.250970        1  \n",
              "18  2.493782        0  \n",
              "19 -1.376657        1  "
            ],
            "text/html": [
              "\n",
              "  <div id=\"df-c13ae8dd-5af9-447e-ac05-2d30902a1a2b\" class=\"colab-df-container\">\n",
              "    <div>\n",
              "<style scoped>\n",
              "    .dataframe tbody tr th:only-of-type {\n",
              "        vertical-align: middle;\n",
              "    }\n",
              "\n",
              "    .dataframe tbody tr th {\n",
              "        vertical-align: top;\n",
              "    }\n",
              "\n",
              "    .dataframe thead th {\n",
              "        text-align: right;\n",
              "    }\n",
              "</style>\n",
              "<table border=\"1\" class=\"dataframe\">\n",
              "  <thead>\n",
              "    <tr style=\"text-align: right;\">\n",
              "      <th></th>\n",
              "      <th>A_id</th>\n",
              "      <th>Size</th>\n",
              "      <th>Weight</th>\n",
              "      <th>Sweetness</th>\n",
              "      <th>Crunchiness</th>\n",
              "      <th>Juiciness</th>\n",
              "      <th>Ripeness</th>\n",
              "      <th>Acidity</th>\n",
              "      <th>Quality</th>\n",
              "    </tr>\n",
              "  </thead>\n",
              "  <tbody>\n",
              "    <tr>\n",
              "      <th>0</th>\n",
              "      <td>0</td>\n",
              "      <td>-3.970049</td>\n",
              "      <td>-2.512336</td>\n",
              "      <td>5.346330</td>\n",
              "      <td>-1.012009</td>\n",
              "      <td>1.844900</td>\n",
              "      <td>0.329840</td>\n",
              "      <td>-0.491590</td>\n",
              "      <td>1</td>\n",
              "    </tr>\n",
              "    <tr>\n",
              "      <th>1</th>\n",
              "      <td>1</td>\n",
              "      <td>-1.195217</td>\n",
              "      <td>-2.839257</td>\n",
              "      <td>3.664059</td>\n",
              "      <td>1.588232</td>\n",
              "      <td>0.853286</td>\n",
              "      <td>0.867530</td>\n",
              "      <td>-0.722809</td>\n",
              "      <td>1</td>\n",
              "    </tr>\n",
              "    <tr>\n",
              "      <th>2</th>\n",
              "      <td>2</td>\n",
              "      <td>-0.292024</td>\n",
              "      <td>-1.351282</td>\n",
              "      <td>-1.738429</td>\n",
              "      <td>-0.342616</td>\n",
              "      <td>2.838636</td>\n",
              "      <td>-0.038033</td>\n",
              "      <td>2.621636</td>\n",
              "      <td>0</td>\n",
              "    </tr>\n",
              "    <tr>\n",
              "      <th>3</th>\n",
              "      <td>3</td>\n",
              "      <td>-0.657196</td>\n",
              "      <td>-2.271627</td>\n",
              "      <td>1.324874</td>\n",
              "      <td>-0.097875</td>\n",
              "      <td>3.637970</td>\n",
              "      <td>-3.413761</td>\n",
              "      <td>0.790723</td>\n",
              "      <td>1</td>\n",
              "    </tr>\n",
              "    <tr>\n",
              "      <th>4</th>\n",
              "      <td>4</td>\n",
              "      <td>1.364217</td>\n",
              "      <td>-1.296612</td>\n",
              "      <td>-0.384658</td>\n",
              "      <td>-0.553006</td>\n",
              "      <td>3.030874</td>\n",
              "      <td>-1.303849</td>\n",
              "      <td>0.501984</td>\n",
              "      <td>1</td>\n",
              "    </tr>\n",
              "    <tr>\n",
              "      <th>5</th>\n",
              "      <td>5</td>\n",
              "      <td>-3.425400</td>\n",
              "      <td>-1.409082</td>\n",
              "      <td>-1.913511</td>\n",
              "      <td>-0.555775</td>\n",
              "      <td>-3.853071</td>\n",
              "      <td>1.914616</td>\n",
              "      <td>-2.981523</td>\n",
              "      <td>0</td>\n",
              "    </tr>\n",
              "    <tr>\n",
              "      <th>6</th>\n",
              "      <td>6</td>\n",
              "      <td>1.331606</td>\n",
              "      <td>1.635956</td>\n",
              "      <td>0.875974</td>\n",
              "      <td>-1.677798</td>\n",
              "      <td>3.106344</td>\n",
              "      <td>-1.847417</td>\n",
              "      <td>2.414171</td>\n",
              "      <td>1</td>\n",
              "    </tr>\n",
              "    <tr>\n",
              "      <th>7</th>\n",
              "      <td>7</td>\n",
              "      <td>-1.995462</td>\n",
              "      <td>-0.428958</td>\n",
              "      <td>1.530644</td>\n",
              "      <td>-0.742972</td>\n",
              "      <td>0.158834</td>\n",
              "      <td>0.974438</td>\n",
              "      <td>-1.470125</td>\n",
              "      <td>1</td>\n",
              "    </tr>\n",
              "    <tr>\n",
              "      <th>8</th>\n",
              "      <td>8</td>\n",
              "      <td>-3.867632</td>\n",
              "      <td>-3.734514</td>\n",
              "      <td>0.986429</td>\n",
              "      <td>-1.207655</td>\n",
              "      <td>2.292873</td>\n",
              "      <td>4.080921</td>\n",
              "      <td>-4.871905</td>\n",
              "      <td>0</td>\n",
              "    </tr>\n",
              "    <tr>\n",
              "      <th>9</th>\n",
              "      <td>9</td>\n",
              "      <td>-0.727983</td>\n",
              "      <td>-0.442820</td>\n",
              "      <td>-4.092223</td>\n",
              "      <td>0.597513</td>\n",
              "      <td>0.393714</td>\n",
              "      <td>1.620857</td>\n",
              "      <td>2.185608</td>\n",
              "      <td>0</td>\n",
              "    </tr>\n",
              "    <tr>\n",
              "      <th>10</th>\n",
              "      <td>10</td>\n",
              "      <td>-2.699336</td>\n",
              "      <td>-1.329507</td>\n",
              "      <td>-1.418507</td>\n",
              "      <td>-0.625546</td>\n",
              "      <td>2.371074</td>\n",
              "      <td>3.403165</td>\n",
              "      <td>-2.810808</td>\n",
              "      <td>0</td>\n",
              "    </tr>\n",
              "    <tr>\n",
              "      <th>11</th>\n",
              "      <td>11</td>\n",
              "      <td>2.450960</td>\n",
              "      <td>-0.564177</td>\n",
              "      <td>-1.635041</td>\n",
              "      <td>0.942400</td>\n",
              "      <td>-2.087317</td>\n",
              "      <td>1.214322</td>\n",
              "      <td>1.294324</td>\n",
              "      <td>1</td>\n",
              "    </tr>\n",
              "    <tr>\n",
              "      <th>12</th>\n",
              "      <td>12</td>\n",
              "      <td>-0.170812</td>\n",
              "      <td>-1.867271</td>\n",
              "      <td>-1.771845</td>\n",
              "      <td>2.413155</td>\n",
              "      <td>-3.094555</td>\n",
              "      <td>-0.624884</td>\n",
              "      <td>-2.076114</td>\n",
              "      <td>0</td>\n",
              "    </tr>\n",
              "    <tr>\n",
              "      <th>13</th>\n",
              "      <td>13</td>\n",
              "      <td>-1.345531</td>\n",
              "      <td>-1.623701</td>\n",
              "      <td>2.044144</td>\n",
              "      <td>1.754813</td>\n",
              "      <td>0.997567</td>\n",
              "      <td>0.434180</td>\n",
              "      <td>1.724026</td>\n",
              "      <td>1</td>\n",
              "    </tr>\n",
              "    <tr>\n",
              "      <th>14</th>\n",
              "      <td>14</td>\n",
              "      <td>2.839581</td>\n",
              "      <td>-0.344798</td>\n",
              "      <td>-1.019797</td>\n",
              "      <td>0.894581</td>\n",
              "      <td>-1.300061</td>\n",
              "      <td>0.582379</td>\n",
              "      <td>1.709708</td>\n",
              "      <td>1</td>\n",
              "    </tr>\n",
              "    <tr>\n",
              "      <th>15</th>\n",
              "      <td>15</td>\n",
              "      <td>-2.659887</td>\n",
              "      <td>-2.795684</td>\n",
              "      <td>4.230404</td>\n",
              "      <td>0.697550</td>\n",
              "      <td>2.180911</td>\n",
              "      <td>-0.088775</td>\n",
              "      <td>-1.083621</td>\n",
              "      <td>1</td>\n",
              "    </tr>\n",
              "    <tr>\n",
              "      <th>16</th>\n",
              "      <td>16</td>\n",
              "      <td>-1.468952</td>\n",
              "      <td>-1.950360</td>\n",
              "      <td>-2.214373</td>\n",
              "      <td>0.909759</td>\n",
              "      <td>2.864449</td>\n",
              "      <td>3.965956</td>\n",
              "      <td>-0.558209</td>\n",
              "      <td>0</td>\n",
              "    </tr>\n",
              "    <tr>\n",
              "      <th>17</th>\n",
              "      <td>17</td>\n",
              "      <td>-0.074370</td>\n",
              "      <td>-4.714750</td>\n",
              "      <td>0.249768</td>\n",
              "      <td>2.935319</td>\n",
              "      <td>1.409755</td>\n",
              "      <td>-2.643810</td>\n",
              "      <td>1.250970</td>\n",
              "      <td>1</td>\n",
              "    </tr>\n",
              "    <tr>\n",
              "      <th>18</th>\n",
              "      <td>18</td>\n",
              "      <td>-0.302364</td>\n",
              "      <td>1.724396</td>\n",
              "      <td>-2.442337</td>\n",
              "      <td>3.465108</td>\n",
              "      <td>0.449792</td>\n",
              "      <td>-0.074362</td>\n",
              "      <td>2.493782</td>\n",
              "      <td>0</td>\n",
              "    </tr>\n",
              "    <tr>\n",
              "      <th>19</th>\n",
              "      <td>19</td>\n",
              "      <td>-2.108050</td>\n",
              "      <td>0.356467</td>\n",
              "      <td>-1.156193</td>\n",
              "      <td>4.326723</td>\n",
              "      <td>1.561543</td>\n",
              "      <td>-4.630174</td>\n",
              "      <td>-1.376657</td>\n",
              "      <td>1</td>\n",
              "    </tr>\n",
              "  </tbody>\n",
              "</table>\n",
              "</div>\n",
              "    <div class=\"colab-df-buttons\">\n",
              "\n",
              "  <div class=\"colab-df-container\">\n",
              "    <button class=\"colab-df-convert\" onclick=\"convertToInteractive('df-c13ae8dd-5af9-447e-ac05-2d30902a1a2b')\"\n",
              "            title=\"Convert this dataframe to an interactive table.\"\n",
              "            style=\"display:none;\">\n",
              "\n",
              "  <svg xmlns=\"http://www.w3.org/2000/svg\" height=\"24px\" viewBox=\"0 -960 960 960\">\n",
              "    <path d=\"M120-120v-720h720v720H120Zm60-500h600v-160H180v160Zm220 220h160v-160H400v160Zm0 220h160v-160H400v160ZM180-400h160v-160H180v160Zm440 0h160v-160H620v160ZM180-180h160v-160H180v160Zm440 0h160v-160H620v160Z\"/>\n",
              "  </svg>\n",
              "    </button>\n",
              "\n",
              "  <style>\n",
              "    .colab-df-container {\n",
              "      display:flex;\n",
              "      gap: 12px;\n",
              "    }\n",
              "\n",
              "    .colab-df-convert {\n",
              "      background-color: #E8F0FE;\n",
              "      border: none;\n",
              "      border-radius: 50%;\n",
              "      cursor: pointer;\n",
              "      display: none;\n",
              "      fill: #1967D2;\n",
              "      height: 32px;\n",
              "      padding: 0 0 0 0;\n",
              "      width: 32px;\n",
              "    }\n",
              "\n",
              "    .colab-df-convert:hover {\n",
              "      background-color: #E2EBFA;\n",
              "      box-shadow: 0px 1px 2px rgba(60, 64, 67, 0.3), 0px 1px 3px 1px rgba(60, 64, 67, 0.15);\n",
              "      fill: #174EA6;\n",
              "    }\n",
              "\n",
              "    .colab-df-buttons div {\n",
              "      margin-bottom: 4px;\n",
              "    }\n",
              "\n",
              "    [theme=dark] .colab-df-convert {\n",
              "      background-color: #3B4455;\n",
              "      fill: #D2E3FC;\n",
              "    }\n",
              "\n",
              "    [theme=dark] .colab-df-convert:hover {\n",
              "      background-color: #434B5C;\n",
              "      box-shadow: 0px 1px 3px 1px rgba(0, 0, 0, 0.15);\n",
              "      filter: drop-shadow(0px 1px 2px rgba(0, 0, 0, 0.3));\n",
              "      fill: #FFFFFF;\n",
              "    }\n",
              "  </style>\n",
              "\n",
              "    <script>\n",
              "      const buttonEl =\n",
              "        document.querySelector('#df-c13ae8dd-5af9-447e-ac05-2d30902a1a2b button.colab-df-convert');\n",
              "      buttonEl.style.display =\n",
              "        google.colab.kernel.accessAllowed ? 'block' : 'none';\n",
              "\n",
              "      async function convertToInteractive(key) {\n",
              "        const element = document.querySelector('#df-c13ae8dd-5af9-447e-ac05-2d30902a1a2b');\n",
              "        const dataTable =\n",
              "          await google.colab.kernel.invokeFunction('convertToInteractive',\n",
              "                                                    [key], {});\n",
              "        if (!dataTable) return;\n",
              "\n",
              "        const docLinkHtml = 'Like what you see? Visit the ' +\n",
              "          '<a target=\"_blank\" href=https://colab.research.google.com/notebooks/data_table.ipynb>data table notebook</a>'\n",
              "          + ' to learn more about interactive tables.';\n",
              "        element.innerHTML = '';\n",
              "        dataTable['output_type'] = 'display_data';\n",
              "        await google.colab.output.renderOutput(dataTable, element);\n",
              "        const docLink = document.createElement('div');\n",
              "        docLink.innerHTML = docLinkHtml;\n",
              "        element.appendChild(docLink);\n",
              "      }\n",
              "    </script>\n",
              "  </div>\n",
              "\n",
              "\n",
              "<div id=\"df-250fe26b-fa49-469c-9760-e76b00441a13\">\n",
              "  <button class=\"colab-df-quickchart\" onclick=\"quickchart('df-250fe26b-fa49-469c-9760-e76b00441a13')\"\n",
              "            title=\"Suggest charts\"\n",
              "            style=\"display:none;\">\n",
              "\n",
              "<svg xmlns=\"http://www.w3.org/2000/svg\" height=\"24px\"viewBox=\"0 0 24 24\"\n",
              "     width=\"24px\">\n",
              "    <g>\n",
              "        <path d=\"M19 3H5c-1.1 0-2 .9-2 2v14c0 1.1.9 2 2 2h14c1.1 0 2-.9 2-2V5c0-1.1-.9-2-2-2zM9 17H7v-7h2v7zm4 0h-2V7h2v10zm4 0h-2v-4h2v4z\"/>\n",
              "    </g>\n",
              "</svg>\n",
              "  </button>\n",
              "\n",
              "<style>\n",
              "  .colab-df-quickchart {\n",
              "      --bg-color: #E8F0FE;\n",
              "      --fill-color: #1967D2;\n",
              "      --hover-bg-color: #E2EBFA;\n",
              "      --hover-fill-color: #174EA6;\n",
              "      --disabled-fill-color: #AAA;\n",
              "      --disabled-bg-color: #DDD;\n",
              "  }\n",
              "\n",
              "  [theme=dark] .colab-df-quickchart {\n",
              "      --bg-color: #3B4455;\n",
              "      --fill-color: #D2E3FC;\n",
              "      --hover-bg-color: #434B5C;\n",
              "      --hover-fill-color: #FFFFFF;\n",
              "      --disabled-bg-color: #3B4455;\n",
              "      --disabled-fill-color: #666;\n",
              "  }\n",
              "\n",
              "  .colab-df-quickchart {\n",
              "    background-color: var(--bg-color);\n",
              "    border: none;\n",
              "    border-radius: 50%;\n",
              "    cursor: pointer;\n",
              "    display: none;\n",
              "    fill: var(--fill-color);\n",
              "    height: 32px;\n",
              "    padding: 0;\n",
              "    width: 32px;\n",
              "  }\n",
              "\n",
              "  .colab-df-quickchart:hover {\n",
              "    background-color: var(--hover-bg-color);\n",
              "    box-shadow: 0 1px 2px rgba(60, 64, 67, 0.3), 0 1px 3px 1px rgba(60, 64, 67, 0.15);\n",
              "    fill: var(--button-hover-fill-color);\n",
              "  }\n",
              "\n",
              "  .colab-df-quickchart-complete:disabled,\n",
              "  .colab-df-quickchart-complete:disabled:hover {\n",
              "    background-color: var(--disabled-bg-color);\n",
              "    fill: var(--disabled-fill-color);\n",
              "    box-shadow: none;\n",
              "  }\n",
              "\n",
              "  .colab-df-spinner {\n",
              "    border: 2px solid var(--fill-color);\n",
              "    border-color: transparent;\n",
              "    border-bottom-color: var(--fill-color);\n",
              "    animation:\n",
              "      spin 1s steps(1) infinite;\n",
              "  }\n",
              "\n",
              "  @keyframes spin {\n",
              "    0% {\n",
              "      border-color: transparent;\n",
              "      border-bottom-color: var(--fill-color);\n",
              "      border-left-color: var(--fill-color);\n",
              "    }\n",
              "    20% {\n",
              "      border-color: transparent;\n",
              "      border-left-color: var(--fill-color);\n",
              "      border-top-color: var(--fill-color);\n",
              "    }\n",
              "    30% {\n",
              "      border-color: transparent;\n",
              "      border-left-color: var(--fill-color);\n",
              "      border-top-color: var(--fill-color);\n",
              "      border-right-color: var(--fill-color);\n",
              "    }\n",
              "    40% {\n",
              "      border-color: transparent;\n",
              "      border-right-color: var(--fill-color);\n",
              "      border-top-color: var(--fill-color);\n",
              "    }\n",
              "    60% {\n",
              "      border-color: transparent;\n",
              "      border-right-color: var(--fill-color);\n",
              "    }\n",
              "    80% {\n",
              "      border-color: transparent;\n",
              "      border-right-color: var(--fill-color);\n",
              "      border-bottom-color: var(--fill-color);\n",
              "    }\n",
              "    90% {\n",
              "      border-color: transparent;\n",
              "      border-bottom-color: var(--fill-color);\n",
              "    }\n",
              "  }\n",
              "</style>\n",
              "\n",
              "  <script>\n",
              "    async function quickchart(key) {\n",
              "      const quickchartButtonEl =\n",
              "        document.querySelector('#' + key + ' button');\n",
              "      quickchartButtonEl.disabled = true;  // To prevent multiple clicks.\n",
              "      quickchartButtonEl.classList.add('colab-df-spinner');\n",
              "      try {\n",
              "        const charts = await google.colab.kernel.invokeFunction(\n",
              "            'suggestCharts', [key], {});\n",
              "      } catch (error) {\n",
              "        console.error('Error during call to suggestCharts:', error);\n",
              "      }\n",
              "      quickchartButtonEl.classList.remove('colab-df-spinner');\n",
              "      quickchartButtonEl.classList.add('colab-df-quickchart-complete');\n",
              "    }\n",
              "    (() => {\n",
              "      let quickchartButtonEl =\n",
              "        document.querySelector('#df-250fe26b-fa49-469c-9760-e76b00441a13 button');\n",
              "      quickchartButtonEl.style.display =\n",
              "        google.colab.kernel.accessAllowed ? 'block' : 'none';\n",
              "    })();\n",
              "  </script>\n",
              "</div>\n",
              "    </div>\n",
              "  </div>\n"
            ],
            "application/vnd.google.colaboratory.intrinsic+json": {
              "type": "dataframe",
              "variable_name": "df",
              "summary": "{\n  \"name\": \"df\",\n  \"rows\": 20,\n  \"fields\": [\n    {\n      \"column\": \"A_id\",\n      \"properties\": {\n        \"dtype\": \"number\",\n        \"std\": 5,\n        \"min\": 0,\n        \"max\": 19,\n        \"num_unique_values\": 20,\n        \"samples\": [\n          0,\n          17,\n          15\n        ],\n        \"semantic_type\": \"\",\n        \"description\": \"\"\n      }\n    },\n    {\n      \"column\": \"Size\",\n      \"properties\": {\n        \"dtype\": \"number\",\n        \"std\": 1.9400857710340234,\n        \"min\": -3.970049,\n        \"max\": 2.839581,\n        \"num_unique_values\": 20,\n        \"samples\": [\n          -3.970049,\n          -0.07437,\n          -2.659887\n        ],\n        \"semantic_type\": \"\",\n        \"description\": \"\"\n      }\n    },\n    {\n      \"column\": \"Weight\",\n      \"properties\": {\n        \"dtype\": \"number\",\n        \"std\": 1.6022299992543707,\n        \"min\": -4.71475,\n        \"max\": 1.724396,\n        \"num_unique_values\": 20,\n        \"samples\": [\n          -2.512336,\n          -4.71475,\n          -2.795684\n        ],\n        \"semantic_type\": \"\",\n        \"description\": \"\"\n      }\n    },\n    {\n      \"column\": \"Sweetness\",\n      \"properties\": {\n        \"dtype\": \"number\",\n        \"std\": 2.456158558655802,\n        \"min\": -4.092223,\n        \"max\": 5.34633,\n        \"num_unique_values\": 20,\n        \"samples\": [\n          5.34633,\n          0.249768,\n          4.230404\n        ],\n        \"semantic_type\": \"\",\n        \"description\": \"\"\n      }\n    },\n    {\n      \"column\": \"Crunchiness\",\n      \"properties\": {\n        \"dtype\": \"number\",\n        \"std\": 1.6497676606330927,\n        \"min\": -1.677798,\n        \"max\": 4.326723,\n        \"num_unique_values\": 20,\n        \"samples\": [\n          -1.012009,\n          2.935319,\n          0.69755\n        ],\n        \"semantic_type\": \"\",\n        \"description\": \"\"\n      }\n    },\n    {\n      \"column\": \"Juiciness\",\n      \"properties\": {\n        \"dtype\": \"number\",\n        \"std\": 2.11576534681362,\n        \"min\": -3.853071,\n        \"max\": 3.63797,\n        \"num_unique_values\": 20,\n        \"samples\": [\n          1.8449,\n          1.409755,\n          2.180911\n        ],\n        \"semantic_type\": \"\",\n        \"description\": \"\"\n      }\n    },\n    {\n      \"column\": \"Ripeness\",\n      \"properties\": {\n        \"dtype\": \"number\",\n        \"std\": 2.2775250690527504,\n        \"min\": -4.630174,\n        \"max\": 4.080921,\n        \"num_unique_values\": 20,\n        \"samples\": [\n          0.32984,\n          -2.64381,\n          -0.088775\n        ],\n        \"semantic_type\": \"\",\n        \"description\": \"\"\n      }\n    },\n    {\n      \"column\": \"Acidity\",\n      \"properties\": {\n        \"dtype\": \"number\",\n        \"std\": 2.111945886688574,\n        \"min\": -4.871905,\n        \"max\": 2.621636,\n        \"num_unique_values\": 20,\n        \"samples\": [\n          -0.49159,\n          1.25097,\n          -1.083621\n        ],\n        \"semantic_type\": \"\",\n        \"description\": \"\"\n      }\n    },\n    {\n      \"column\": \"Quality\",\n      \"properties\": {\n        \"dtype\": \"number\",\n        \"std\": 0,\n        \"min\": 0,\n        \"max\": 1,\n        \"num_unique_values\": 2,\n        \"samples\": [\n          0,\n          1\n        ],\n        \"semantic_type\": \"\",\n        \"description\": \"\"\n      }\n    }\n  ]\n}"
            }
          },
          "metadata": {},
          "execution_count": 131
        }
      ]
    },
    {
      "cell_type": "code",
      "source": [
        "df.shape"
      ],
      "metadata": {
        "colab": {
          "base_uri": "https://localhost:8080/"
        },
        "id": "cs0xBcb-eBCv",
        "outputId": "ba84fcce-f5b8-4855-df90-0d059733f43a"
      },
      "execution_count": 132,
      "outputs": [
        {
          "output_type": "execute_result",
          "data": {
            "text/plain": [
              "(20, 9)"
            ]
          },
          "metadata": {},
          "execution_count": 132
        }
      ]
    },
    {
      "cell_type": "code",
      "source": [
        "print(df.corr())"
      ],
      "metadata": {
        "colab": {
          "base_uri": "https://localhost:8080/"
        },
        "id": "BV95w58HeB1b",
        "outputId": "d737f9e2-34f9-4555-bf7f-24e4ea08fd35"
      },
      "execution_count": 133,
      "outputs": [
        {
          "output_type": "stream",
          "name": "stdout",
          "text": [
            "                 A_id      Size    Weight  Sweetness  Crunchiness  Juiciness  \\\n",
            "A_id         1.000000  0.143885  0.159683  -0.359056     0.721128  -0.151996   \n",
            "Size         0.143885  1.000000  0.387522  -0.359897     0.166252  -0.134375   \n",
            "Weight       0.159683  0.387522  1.000000  -0.426757     0.072819  -0.131397   \n",
            "Sweetness   -0.359056 -0.359897 -0.426757   1.000000    -0.239799   0.318706   \n",
            "Crunchiness  0.721128  0.166252  0.072819  -0.239799     1.000000  -0.248251   \n",
            "Juiciness   -0.151996 -0.134375 -0.131397   0.318706    -0.248251   1.000000   \n",
            "Ripeness    -0.099353 -0.309215 -0.159876  -0.143161    -0.413064  -0.168403   \n",
            "Acidity      0.063587  0.691755  0.416970  -0.175839     0.190317   0.159249   \n",
            "Quality     -0.070799  0.289565 -0.048593   0.630589     0.052683   0.178176   \n",
            "\n",
            "             Ripeness   Acidity   Quality  \n",
            "A_id        -0.099353  0.063587 -0.070799  \n",
            "Size        -0.309215  0.691755  0.289565  \n",
            "Weight      -0.159876  0.416970 -0.048593  \n",
            "Sweetness   -0.143161 -0.175839  0.630589  \n",
            "Crunchiness -0.413064  0.190317  0.052683  \n",
            "Juiciness   -0.168403  0.159249  0.178176  \n",
            "Ripeness     1.000000 -0.394219 -0.568227  \n",
            "Acidity     -0.394219  1.000000  0.268482  \n",
            "Quality     -0.568227  0.268482  1.000000  \n"
          ]
        }
      ]
    },
    {
      "cell_type": "code",
      "source": [
        "print(df.describe())"
      ],
      "metadata": {
        "colab": {
          "base_uri": "https://localhost:8080/"
        },
        "id": "9Uh1c1uteEZT",
        "outputId": "3525c00b-79e9-4a17-872d-96c4e0973d8b"
      },
      "execution_count": 134,
      "outputs": [
        {
          "output_type": "stream",
          "name": "stdout",
          "text": [
            "           A_id       Size     Weight  Sweetness  Crunchiness  Juiciness  \\\n",
            "count  20.00000  20.000000  20.000000  20.000000    20.000000  20.000000   \n",
            "mean    9.50000  -0.948695  -1.387996   0.023286     0.685495   0.982876   \n",
            "std     5.91608   1.940086   1.602230   2.456159     1.649768   2.115765   \n",
            "min     0.00000  -3.970049  -4.714750  -4.092223    -1.677798  -3.853071   \n",
            "25%     4.75000  -2.246009  -2.331804  -1.746783    -0.573218   0.334994   \n",
            "50%     9.50000  -0.961600  -1.380182  -0.702228     0.647531   1.485649   \n",
            "75%    14.25000  -0.146701  -0.439354   1.376317     1.629877   2.487965   \n",
            "max    19.00000   2.839581   1.724396   5.346330     4.326723   3.637970   \n",
            "\n",
            "        Ripeness    Acidity    Quality  \n",
            "count  20.000000  20.000000  20.000000  \n",
            "mean    0.236157  -0.072821   0.600000  \n",
            "std     2.277525   2.111946   0.502625  \n",
            "min    -4.630174  -4.871905   0.000000  \n",
            "25%    -0.794625  -1.400024   0.000000  \n",
            "50%     0.382010   0.005197   1.000000  \n",
            "75%     1.315956   1.713288   1.000000  \n",
            "max     4.080921   2.621636   1.000000  \n"
          ]
        }
      ]
    },
    {
      "cell_type": "code",
      "source": [
        "X = df[['Size', 'Weight', 'Sweetness', 'Crunchiness', 'Juiciness', 'Ripeness', 'Acidity']]\n",
        "y = df['Quality']"
      ],
      "metadata": {
        "id": "Fg_pDTtSeFkM"
      },
      "execution_count": 135,
      "outputs": []
    },
    {
      "cell_type": "code",
      "source": [
        "fig, axs = plt.subplots(7, figsize=(5, 10))\n",
        "plt1 = sns.boxplot(df['Size'], ax=axs[0])\n",
        "plt2 = sns.boxplot(df['Weight'], ax=axs[1])\n",
        "plt3 = sns.boxplot(df['Sweetness'], ax=axs[2])\n",
        "plt4 = sns.boxplot(df['Crunchiness'], ax=axs[3])\n",
        "plt5 = sns.boxplot(df['Juiciness'], ax=axs[4])\n",
        "plt6 = sns.boxplot(df['Ripeness'], ax=axs[5])\n",
        "plt7 = sns.boxplot(df['Acidity'], ax=axs[6])\n",
        "plt.tight_layout()\n"
      ],
      "metadata": {
        "colab": {
          "base_uri": "https://localhost:8080/",
          "height": 1000
        },
        "id": "u4ytfqdveZxn",
        "outputId": "78674c60-7cb3-4d71-b804-02c3d5eb235e"
      },
      "execution_count": 136,
      "outputs": [
        {
          "output_type": "display_data",
          "data": {
            "text/plain": [
              "<Figure size 500x1000 with 7 Axes>"
            ],
            "image/png": "[encoded data removed]"
          },
          "metadata": {}
        }
      ]
    },
    {
      "cell_type": "markdown",
      "source": [
        "From looking at the boxplots of different apple characteristics like size, weight, sweetness, crunchiness, juiciness, ripeness, and acidity, we can see that each characteristic varies among the apples. Some apples are bigger or heavier, while others are sweeter, crunchier, juicier, riper, or more acidic. This shows that the dataset contains a variety of apple types with different qualities and attributes."
      ],
      "metadata": {
        "id": "k6w6lR7pZn6a"
      }
    },
    {
      "cell_type": "code",
      "source": [
        "sns.distplot(df['Quality']);"
      ],
      "metadata": {
        "colab": {
          "base_uri": "https://localhost:8080/",
          "height": 650
        },
        "id": "YkG8HJ2Ae_5D",
        "outputId": "5ed9d458-a4d2-43bd-f265-4c6d787d3b18"
      },
      "execution_count": 137,
      "outputs": [
        {
          "output_type": "stream",
          "name": "stderr",
          "text": [
            "<ipython-input-137-724c6ee4f35d>:1: UserWarning: \n",
            "\n",
            "`distplot` is a deprecated function and will be removed in seaborn v0.14.0.\n",
            "\n",
            "Please adapt your code to use either `displot` (a figure-level function with\n",
            "similar flexibility) or `histplot` (an axes-level function for histograms).\n",
            "\n",
            "For a guide to updating your code to use the new functions, please see\n",
            "https://gist.github.com/mwaskom/de44147ed2974457ad6372750bbe5751\n",
            "\n",
            "  sns.distplot(df['Quality']);\n"
          ]
        },
        {
          "output_type": "display_data",
          "data": {
            "text/plain": [
              "<Figure size 640x480 with 1 Axes>"
            ],
            "image/png": "[encoded data removed]"
          },
          "metadata": {}
        }
      ]
    },
    {
      "cell_type": "markdown",
      "source": [
        "From the distribution plot of 'Quality', it's clear that most apples fall within a certain quality range, suggesting a common perception of what constitutes good quality. However, there's also variability in quality scores, indicating that not all apples are perceived equally in terms of quality."
      ],
      "metadata": {
        "id": "REZoEb0jZxfJ"
      }
    },
    {
      "cell_type": "code",
      "source": [
        "sns.pairplot(df, x_vars=['Size', 'Weight', 'Sweetness', 'Crunchiness', 'Juiciness', 'Ripeness', 'Acidity'], y_vars='Quality', height=4, aspect=1, kind='scatter')\n",
        "plt.show()"
      ],
      "metadata": {
        "colab": {
          "base_uri": "https://localhost:8080/",
          "height": 246
        },
        "id": "XQShCUr4gEUw",
        "outputId": "c7ee8cb2-737e-4c3e-993c-fa9523ff7665"
      },
      "execution_count": 138,
      "outputs": [
        {
          "output_type": "display_data",
          "data": {
            "text/plain": [
              "<Figure size 2800x400 with 7 Axes>"
            ],
            "image/png": "[encoded data removed]"
          },
          "metadata": {}
        }
      ]
    },
    {
      "cell_type": "markdown",
      "source": [
        "The pairplot visually presents how different qualities of apples, like their size, weight, sweetness, crunchiness, juiciness, ripeness, and acidity, relate to their overall quality.  This suggests that various factors play into what makes an apple high-quality, beyond just its size and weight."
      ],
      "metadata": {
        "id": "sMBaLAI0Z8aC"
      }
    },
    {
      "cell_type": "code",
      "source": [
        "sns.heatmap(df.corr(), annot = True, cmap = 'coolwarm')\n",
        "plt.show()"
      ],
      "metadata": {
        "colab": {
          "base_uri": "https://localhost:8080/",
          "height": 506
        },
        "id": "ZhT977EKgLfV",
        "outputId": "80723d13-d79c-4fbc-8777-a27a0d7dc771"
      },
      "execution_count": 139,
      "outputs": [
        {
          "output_type": "display_data",
          "data": {
            "text/plain": [
              "<Figure size 640x480 with 2 Axes>"
            ],
            "image/png": "[encoded data removed]"
          },
          "metadata": {}
        }
      ]
    },
    {
      "cell_type": "markdown",
      "source": [
        "The heatmap paints a picture of how different attributes relate to each other. Warmer colors mean they tend to go up or down together, while cooler colors mean they move in opposite directions. For example, if 'Size' goes up, 'Weight' usually goes up too, but if 'Size' increases, 'Acidity' tends to decrease. Darker colors mean the relationship is stronger, helping us spot important connections in the data."
      ],
      "metadata": {
        "id": "GlMNHsG1aBUC"
      }
    },
    {
      "cell_type": "code",
      "source": [
        "X_train,X_test, y_train, y_test = train_test_split(X, y, test_size = 0.3, random_state = 100)"
      ],
      "metadata": {
        "id": "Irgt-_EVgO0B"
      },
      "execution_count": 140,
      "outputs": []
    },
    {
      "cell_type": "markdown",
      "source": [
        "This line of code splits the dataset into training and testing sets, with 30% of the data allocated for testing and a random seed of 100 for reproducibility."
      ],
      "metadata": {
        "id": "8Udvr0UUaexR"
      }
    },
    {
      "cell_type": "code",
      "source": [
        "y_train.shape"
      ],
      "metadata": {
        "colab": {
          "base_uri": "https://localhost:8080/"
        },
        "id": "VOFS_y_fgRfV",
        "outputId": "5242f381-3f3d-42a4-f4d1-e82aa4801c31"
      },
      "execution_count": 141,
      "outputs": [
        {
          "output_type": "execute_result",
          "data": {
            "text/plain": [
              "(14,)"
            ]
          },
          "metadata": {},
          "execution_count": 141
        }
      ]
    },
    {
      "cell_type": "code",
      "source": [
        "y_test.shape"
      ],
      "metadata": {
        "colab": {
          "base_uri": "https://localhost:8080/"
        },
        "id": "jdIbXSFcgTD4",
        "outputId": "436ffb34-8adf-4635-ad9a-6bd238ef00cf"
      },
      "execution_count": 142,
      "outputs": [
        {
          "output_type": "execute_result",
          "data": {
            "text/plain": [
              "(6,)"
            ]
          },
          "metadata": {},
          "execution_count": 142
        }
      ]
    },
    {
      "cell_type": "code",
      "source": [
        "reg_model = linear_model.LinearRegression()"
      ],
      "metadata": {
        "id": "rMq4PZvPgUlj"
      },
      "execution_count": 143,
      "outputs": []
    },
    {
      "cell_type": "markdown",
      "source": [
        "This line of code creates a tool, like a virtual ruler, called reg_model, that helps us understand and predict relationships in our data. It's particularly good at finding straight-line relationships between input features (like apple size) and a target variable (like apple quality). We can use this tool to make predictions based on the patterns it discovers in the data."
      ],
      "metadata": {
        "id": "ujxHip-galnY"
      }
    },
    {
      "cell_type": "code",
      "source": [
        "reg_model = LinearRegression().fit(X_train, y_train)"
      ],
      "metadata": {
        "id": "6Ovyrak-gWAe"
      },
      "execution_count": 144,
      "outputs": []
    },
    {
      "cell_type": "markdown",
      "source": [],
      "metadata": {
        "id": "BqgG4is-amHo"
      }
    },
    {
      "cell_type": "code",
      "source": [
        "#Printing the model coefficients\n",
        "print('Intercept: ',reg_model.intercept_)\n",
        "# pair the feature names with the coefficients\n",
        "list(zip(X, reg_model.coef_))"
      ],
      "metadata": {
        "colab": {
          "base_uri": "https://localhost:8080/"
        },
        "id": "0UTZthUfgXV7",
        "outputId": "411e11ba-aae2-4dd4-ee09-3caefcf96575"
      },
      "execution_count": 145,
      "outputs": [
        {
          "output_type": "stream",
          "name": "stdout",
          "text": [
            "Intercept:  1.010839464817043\n"
          ]
        },
        {
          "output_type": "execute_result",
          "data": {
            "text/plain": [
              "[('Size', 0.13215048409561006),\n",
              " ('Weight', 0.21595910032832974),\n",
              " ('Sweetness', 0.20102597157119445),\n",
              " ('Crunchiness', -0.02751182546988241),\n",
              " ('Juiciness', 0.01796888476511388),\n",
              " ('Ripeness', -0.029817670904813603),\n",
              " ('Acidity', -0.0337311263995755)]"
            ]
          },
          "metadata": {},
          "execution_count": 145
        }
      ]
    },
    {
      "cell_type": "markdown",
      "source": [
        "The model's starting point is around 1.01, representing the baseline quality score of an apple with no specific attributes. Features like 'Size', 'Weight', and 'Sweetness' positively influence quality, while attributes like 'Crunchiness', 'Ripeness', and 'Acidity' have negative effects. 'Juiciness' has a weaker impact."
      ],
      "metadata": {
        "id": "XDnuKsGSbCNX"
      }
    },
    {
      "cell_type": "markdown",
      "source": [
        "**EVALUAITON**\n",
        "\n",
        "These insights help us understand how each feature affects apple quality predictions. Features with larger coefficients strongly affect predictions, while those with coefficients near zero have a weaker influence."
      ],
      "metadata": {
        "id": "06lRzhypbCy1"
      }
    },
    {
      "cell_type": "code",
      "source": [
        "#Predicting the Test and Train set result\n",
        "y_pred= reg_model.predict(X_test)\n",
        "x_pred= reg_model.predict(X_train)"
      ],
      "metadata": {
        "id": "y2s6560Zgr-h"
      },
      "execution_count": 146,
      "outputs": []
    },
    {
      "cell_type": "code",
      "source": [
        "print(\"Prediction for test set: {}\".format(y_pred))"
      ],
      "metadata": {
        "colab": {
          "base_uri": "https://localhost:8080/"
        },
        "id": "5bwVMRezguNy",
        "outputId": "aa99941b-f063-45dd-d9c9-be41edaba1fb"
      },
      "execution_count": 147,
      "outputs": [
        {
          "output_type": "stream",
          "name": "stdout",
          "text": [
            "Prediction for test set: [0.01423949 0.67033744 0.74090899 0.6831578  0.7918474  1.79183474]\n"
          ]
        }
      ]
    },
    {
      "cell_type": "markdown",
      "source": [
        "Observation:\n",
        "\n",
        "The model has predicted quality scores for the test set, ranging from around 0.014 to 1.792.\n",
        "\n",
        "**Evaluation**\n",
        "\n",
        "These predictions offer a glimpse into how well the model performs on new, unseen data. By comparing these predictions to the actual quality scores in the test set, we can assess the model's accuracy. Additionally, metrics like mean squared error or R-squared can provide a more precise measure of the model's performance."
      ],
      "metadata": {
        "id": "0q7fKnpvbV7N"
      }
    },
    {
      "cell_type": "code",
      "source": [
        "#Actual value and the predicted value\n",
        "reg_model_diff = pd.DataFrame({'Actual value': y_test, 'Predicted value': y_pred})\n",
        "reg_model_diff"
      ],
      "metadata": {
        "colab": {
          "base_uri": "https://localhost:8080/",
          "height": 237
        },
        "id": "3K1eZ6GagwFc",
        "outputId": "a11fba01-252d-457e-ede0-2313efe1ef83"
      },
      "execution_count": 148,
      "outputs": [
        {
          "output_type": "execute_result",
          "data": {
            "text/plain": [
              "    Actual value  Predicted value\n",
              "17             1         0.014239\n",
              "19             1         0.670337\n",
              "11             1         0.740909\n",
              "18             0         0.683158\n",
              "13             1         0.791847\n",
              "6              1         1.791835"
            ],
            "text/html": [
              "\n",
              "  <div id=\"df-2e7bed11-8a86-43ca-886e-6c886bf10b8f\" class=\"colab-df-container\">\n",
              "    <div>\n",
              "<style scoped>\n",
              "    .dataframe tbody tr th:only-of-type {\n",
              "        vertical-align: middle;\n",
              "    }\n",
              "\n",
              "    .dataframe tbody tr th {\n",
              "        vertical-align: top;\n",
              "    }\n",
              "\n",
              "    .dataframe thead th {\n",
              "        text-align: right;\n",
              "    }\n",
              "</style>\n",
              "<table border=\"1\" class=\"dataframe\">\n",
              "  <thead>\n",
              "    <tr style=\"text-align: right;\">\n",
              "      <th></th>\n",
              "      <th>Actual value</th>\n",
              "      <th>Predicted value</th>\n",
              "    </tr>\n",
              "  </thead>\n",
              "  <tbody>\n",
              "    <tr>\n",
              "      <th>17</th>\n",
              "      <td>1</td>\n",
              "      <td>0.014239</td>\n",
              "    </tr>\n",
              "    <tr>\n",
              "      <th>19</th>\n",
              "      <td>1</td>\n",
              "      <td>0.670337</td>\n",
              "    </tr>\n",
              "    <tr>\n",
              "      <th>11</th>\n",
              "      <td>1</td>\n",
              "      <td>0.740909</td>\n",
              "    </tr>\n",
              "    <tr>\n",
              "      <th>18</th>\n",
              "      <td>0</td>\n",
              "      <td>0.683158</td>\n",
              "    </tr>\n",
              "    <tr>\n",
              "      <th>13</th>\n",
              "      <td>1</td>\n",
              "      <td>0.791847</td>\n",
              "    </tr>\n",
              "    <tr>\n",
              "      <th>6</th>\n",
              "      <td>1</td>\n",
              "      <td>1.791835</td>\n",
              "    </tr>\n",
              "  </tbody>\n",
              "</table>\n",
              "</div>\n",
              "    <div class=\"colab-df-buttons\">\n",
              "\n",
              "  <div class=\"colab-df-container\">\n",
              "    <button class=\"colab-df-convert\" onclick=\"convertToInteractive('df-2e7bed11-8a86-43ca-886e-6c886bf10b8f')\"\n",
              "            title=\"Convert this dataframe to an interactive table.\"\n",
              "            style=\"display:none;\">\n",
              "\n",
              "  <svg xmlns=\"http://www.w3.org/2000/svg\" height=\"24px\" viewBox=\"0 -960 960 960\">\n",
              "    <path d=\"M120-120v-720h720v720H120Zm60-500h600v-160H180v160Zm220 220h160v-160H400v160Zm0 220h160v-160H400v160ZM180-400h160v-160H180v160Zm440 0h160v-160H620v160ZM180-180h160v-160H180v160Zm440 0h160v-160H620v160Z\"/>\n",
              "  </svg>\n",
              "    </button>\n",
              "\n",
              "  <style>\n",
              "    .colab-df-container {\n",
              "      display:flex;\n",
              "      gap: 12px;\n",
              "    }\n",
              "\n",
              "    .colab-df-convert {\n",
              "      background-color: #E8F0FE;\n",
              "      border: none;\n",
              "      border-radius: 50%;\n",
              "      cursor: pointer;\n",
              "      display: none;\n",
              "      fill: #1967D2;\n",
              "      height: 32px;\n",
              "      padding: 0 0 0 0;\n",
              "      width: 32px;\n",
              "    }\n",
              "\n",
              "    .colab-df-convert:hover {\n",
              "      background-color: #E2EBFA;\n",
              "      box-shadow: 0px 1px 2px rgba(60, 64, 67, 0.3), 0px 1px 3px 1px rgba(60, 64, 67, 0.15);\n",
              "      fill: #174EA6;\n",
              "    }\n",
              "\n",
              "    .colab-df-buttons div {\n",
              "      margin-bottom: 4px;\n",
              "    }\n",
              "\n",
              "    [theme=dark] .colab-df-convert {\n",
              "      background-color: #3B4455;\n",
              "      fill: #D2E3FC;\n",
              "    }\n",
              "\n",
              "    [theme=dark] .colab-df-convert:hover {\n",
              "      background-color: #434B5C;\n",
              "      box-shadow: 0px 1px 3px 1px rgba(0, 0, 0, 0.15);\n",
              "      filter: drop-shadow(0px 1px 2px rgba(0, 0, 0, 0.3));\n",
              "      fill: #FFFFFF;\n",
              "    }\n",
              "  </style>\n",
              "\n",
              "    <script>\n",
              "      const buttonEl =\n",
              "        document.querySelector('#df-2e7bed11-8a86-43ca-886e-6c886bf10b8f button.colab-df-convert');\n",
              "      buttonEl.style.display =\n",
              "        google.colab.kernel.accessAllowed ? 'block' : 'none';\n",
              "\n",
              "      async function convertToInteractive(key) {\n",
              "        const element = document.querySelector('#df-2e7bed11-8a86-43ca-886e-6c886bf10b8f');\n",
              "        const dataTable =\n",
              "          await google.colab.kernel.invokeFunction('convertToInteractive',\n",
              "                                                    [key], {});\n",
              "        if (!dataTable) return;\n",
              "\n",
              "        const docLinkHtml = 'Like what you see? Visit the ' +\n",
              "          '<a target=\"_blank\" href=https://colab.research.google.com/notebooks/data_table.ipynb>data table notebook</a>'\n",
              "          + ' to learn more about interactive tables.';\n",
              "        element.innerHTML = '';\n",
              "        dataTable['output_type'] = 'display_data';\n",
              "        await google.colab.output.renderOutput(dataTable, element);\n",
              "        const docLink = document.createElement('div');\n",
              "        docLink.innerHTML = docLinkHtml;\n",
              "        element.appendChild(docLink);\n",
              "      }\n",
              "    </script>\n",
              "  </div>\n",
              "\n",
              "\n",
              "<div id=\"df-651555a4-9c1e-45a8-b440-7653c9f44d9e\">\n",
              "  <button class=\"colab-df-quickchart\" onclick=\"quickchart('df-651555a4-9c1e-45a8-b440-7653c9f44d9e')\"\n",
              "            title=\"Suggest charts\"\n",
              "            style=\"display:none;\">\n",
              "\n",
              "<svg xmlns=\"http://www.w3.org/2000/svg\" height=\"24px\"viewBox=\"0 0 24 24\"\n",
              "     width=\"24px\">\n",
              "    <g>\n",
              "        <path d=\"M19 3H5c-1.1 0-2 .9-2 2v14c0 1.1.9 2 2 2h14c1.1 0 2-.9 2-2V5c0-1.1-.9-2-2-2zM9 17H7v-7h2v7zm4 0h-2V7h2v10zm4 0h-2v-4h2v4z\"/>\n",
              "    </g>\n",
              "</svg>\n",
              "  </button>\n",
              "\n",
              "<style>\n",
              "  .colab-df-quickchart {\n",
              "      --bg-color: #E8F0FE;\n",
              "      --fill-color: #1967D2;\n",
              "      --hover-bg-color: #E2EBFA;\n",
              "      --hover-fill-color: #174EA6;\n",
              "      --disabled-fill-color: #AAA;\n",
              "      --disabled-bg-color: #DDD;\n",
              "  }\n",
              "\n",
              "  [theme=dark] .colab-df-quickchart {\n",
              "      --bg-color: #3B4455;\n",
              "      --fill-color: #D2E3FC;\n",
              "      --hover-bg-color: #434B5C;\n",
              "      --hover-fill-color: #FFFFFF;\n",
              "      --disabled-bg-color: #3B4455;\n",
              "      --disabled-fill-color: #666;\n",
              "  }\n",
              "\n",
              "  .colab-df-quickchart {\n",
              "    background-color: var(--bg-color);\n",
              "    border: none;\n",
              "    border-radius: 50%;\n",
              "    cursor: pointer;\n",
              "    display: none;\n",
              "    fill: var(--fill-color);\n",
              "    height: 32px;\n",
              "    padding: 0;\n",
              "    width: 32px;\n",
              "  }\n",
              "\n",
              "  .colab-df-quickchart:hover {\n",
              "    background-color: var(--hover-bg-color);\n",
              "    box-shadow: 0 1px 2px rgba(60, 64, 67, 0.3), 0 1px 3px 1px rgba(60, 64, 67, 0.15);\n",
              "    fill: var(--button-hover-fill-color);\n",
              "  }\n",
              "\n",
              "  .colab-df-quickchart-complete:disabled,\n",
              "  .colab-df-quickchart-complete:disabled:hover {\n",
              "    background-color: var(--disabled-bg-color);\n",
              "    fill: var(--disabled-fill-color);\n",
              "    box-shadow: none;\n",
              "  }\n",
              "\n",
              "  .colab-df-spinner {\n",
              "    border: 2px solid var(--fill-color);\n",
              "    border-color: transparent;\n",
              "    border-bottom-color: var(--fill-color);\n",
              "    animation:\n",
              "      spin 1s steps(1) infinite;\n",
              "  }\n",
              "\n",
              "  @keyframes spin {\n",
              "    0% {\n",
              "      border-color: transparent;\n",
              "      border-bottom-color: var(--fill-color);\n",
              "      border-left-color: var(--fill-color);\n",
              "    }\n",
              "    20% {\n",
              "      border-color: transparent;\n",
              "      border-left-color: var(--fill-color);\n",
              "      border-top-color: var(--fill-color);\n",
              "    }\n",
              "    30% {\n",
              "      border-color: transparent;\n",
              "      border-left-color: var(--fill-color);\n",
              "      border-top-color: var(--fill-color);\n",
              "      border-right-color: var(--fill-color);\n",
              "    }\n",
              "    40% {\n",
              "      border-color: transparent;\n",
              "      border-right-color: var(--fill-color);\n",
              "      border-top-color: var(--fill-color);\n",
              "    }\n",
              "    60% {\n",
              "      border-color: transparent;\n",
              "      border-right-color: var(--fill-color);\n",
              "    }\n",
              "    80% {\n",
              "      border-color: transparent;\n",
              "      border-right-color: var(--fill-color);\n",
              "      border-bottom-color: var(--fill-color);\n",
              "    }\n",
              "    90% {\n",
              "      border-color: transparent;\n",
              "      border-bottom-color: var(--fill-color);\n",
              "    }\n",
              "  }\n",
              "</style>\n",
              "\n",
              "  <script>\n",
              "    async function quickchart(key) {\n",
              "      const quickchartButtonEl =\n",
              "        document.querySelector('#' + key + ' button');\n",
              "      quickchartButtonEl.disabled = true;  // To prevent multiple clicks.\n",
              "      quickchartButtonEl.classList.add('colab-df-spinner');\n",
              "      try {\n",
              "        const charts = await google.colab.kernel.invokeFunction(\n",
              "            'suggestCharts', [key], {});\n",
              "      } catch (error) {\n",
              "        console.error('Error during call to suggestCharts:', error);\n",
              "      }\n",
              "      quickchartButtonEl.classList.remove('colab-df-spinner');\n",
              "      quickchartButtonEl.classList.add('colab-df-quickchart-complete');\n",
              "    }\n",
              "    (() => {\n",
              "      let quickchartButtonEl =\n",
              "        document.querySelector('#df-651555a4-9c1e-45a8-b440-7653c9f44d9e button');\n",
              "      quickchartButtonEl.style.display =\n",
              "        google.colab.kernel.accessAllowed ? 'block' : 'none';\n",
              "    })();\n",
              "  </script>\n",
              "</div>\n",
              "    </div>\n",
              "  </div>\n"
            ],
            "application/vnd.google.colaboratory.intrinsic+json": {
              "type": "dataframe",
              "variable_name": "reg_model_diff",
              "summary": "{\n  \"name\": \"reg_model_diff\",\n  \"rows\": 6,\n  \"fields\": [\n    {\n      \"column\": \"Actual value\",\n      \"properties\": {\n        \"dtype\": \"number\",\n        \"std\": 0,\n        \"min\": 0,\n        \"max\": 1,\n        \"num_unique_values\": 2,\n        \"samples\": [\n          0,\n          1\n        ],\n        \"semantic_type\": \"\",\n        \"description\": \"\"\n      }\n    },\n    {\n      \"column\": \"Predicted value\",\n      \"properties\": {\n        \"dtype\": \"number\",\n        \"std\": 0.5715323502187619,\n        \"min\": 0.014239490347645378,\n        \"max\": 1.7918347408047897,\n        \"num_unique_values\": 6,\n        \"samples\": [\n          0.014239490347645378,\n          0.6703374423173457\n        ],\n        \"semantic_type\": \"\",\n        \"description\": \"\"\n      }\n    }\n  ]\n}"
            }
          },
          "metadata": {},
          "execution_count": 148
        }
      ]
    },
    {
      "cell_type": "code",
      "source": [
        "mae = metrics.mean_absolute_error(y_test, y_pred)\n",
        "mse = metrics.mean_squared_error(y_test, y_pred)\n",
        "r2 = np.sqrt(metrics.mean_squared_error(y_test, y_pred))\n",
        "\n",
        "print('Mean Absolute Error:', mae)\n",
        "print('Mean Square Error:', mse)\n",
        "print('Root Mean Square Error:', r2)"
      ],
      "metadata": {
        "colab": {
          "base_uri": "https://localhost:8080/"
        },
        "id": "9pGqiAPOgyJb",
        "outputId": "5d6c2c49-ada1-4155-bccd-ccf60a18e715"
      },
      "execution_count": 149,
      "outputs": [
        {
          "output_type": "stream",
          "name": "stdout",
          "text": [
            "Mean Absolute Error: 0.5429432024360125\n",
            "Mean Square Error: 0.3807606120147958\n",
            "Root Mean Square Error: 0.6170580296980145\n"
          ]
        }
      ]
    },
    {
      "cell_type": "markdown",
      "source": [
        "**EVALUATION**\n",
        "\n",
        "The Mean Absolute Error (MAE) of about 0.544 tells us that, on average, our model's predictions are off by approximately 0.544 points from the real quality scores. This helps gauge how far our predictions are from the truth.\n",
        "\n",
        "The Mean Squared Error (MSE) of around 0.380 shows us the average size of errors in our predictions, after squaring them. It gives us an idea of how much our predictions deviate from reality, with larger errors having a bigger impact.\n",
        "\n",
        "The Root Mean Squared Error (RMSE) of about 0.617, which is derived from MSE, gives a more understandable measure. It's like the average distance between our predictions and the actual scores, suggesting our model's predictions are reasonably close to reality.\n"
      ],
      "metadata": {
        "id": "akCuQNDAb05Q"
      }
    },
    {
      "cell_type": "markdown",
      "source": [
        "References:\n",
        "\n",
        "https://www.w3schools.com/python/python_ml_multiple_regression.asp\n",
        "\n",
        "https://www.analyticsvidhya.com/blog/2021/05/multiple-linear-regression-using-python-and-scikit-learn/\n",
        "\n",
        "https://www.kaggle.com/code/emineyetm/multiple-linear-regression-in-python\n",
        "\n"
      ],
      "metadata": {
        "id": "loAVuDBjK4lt"
      }
    },
    {
      "cell_type": "markdown",
      "source": [
        "##**POLYNOMIAL LINEAR REGRESSION**"
      ],
      "metadata": {
        "id": "ZJqArCE8crwZ"
      }
    },
    {
      "cell_type": "code",
      "source": [
        "# Given dataset\n",
        "dataset = {\n",
        "    \"A_id\": [0, 1, 2, 3, 4, 5, 6, 7, 8, 9],\n",
        "    \"Size\": [-3.970049, -1.195217, -0.292024, -0.657196, 1.364217, -3.425400, 1.331606, -1.995462, -3.867632, -0.727983],\n",
        "    \"Quality\": [1, 1, 0, 1, 1, 0, 1, 1, 0, 0]\n",
        "}\n",
        "\n",
        "# Convert to DataFrame\n",
        "df = pd.DataFrame(dataset)\n",
        "\n",
        "# Extract features and target variable\n",
        "X = df.iloc[:, 1:-1].values\n",
        "y = df.iloc[:, -1].values\n",
        "\n",
        "# Extract 'Size' values\n",
        "sizes = dataset[\"Size\"]\n",
        "\n",
        "# Calculate range\n",
        "size_min = np.min(sizes)\n",
        "size_max = np.max(sizes)\n",
        "\n",
        "print(\"Minimum Size:\", size_min)\n",
        "print(\"Maximum Size:\", size_max)\n"
      ],
      "metadata": {
        "colab": {
          "base_uri": "https://localhost:8080/"
        },
        "id": "ad-UkNJqL2WX",
        "outputId": "745a1fd8-9278-441d-d2b5-0cadd5b23134"
      },
      "execution_count": 150,
      "outputs": [
        {
          "output_type": "stream",
          "name": "stdout",
          "text": [
            "Minimum Size: -3.970049\n",
            "Maximum Size: 1.364217\n"
          ]
        }
      ]
    },
    {
      "cell_type": "markdown",
      "source": [
        "This code analyzes a dataset containing apple characteristics, particularly their size ('Size') and quality ('Quality'). After converting the dataset into a DataFrame, it focuses on the 'Size' attribute, determining the range of sizes present.\n",
        "\n",
        "The dataset includes apples with sizes ranging from approximately -3.97 to 1.36, showcasing a variety of sizes from smaller to larger ones."
      ],
      "metadata": {
        "id": "8RAMpjqhdDD-"
      }
    },
    {
      "cell_type": "code",
      "source": [
        "df.describe()"
      ],
      "metadata": {
        "colab": {
          "base_uri": "https://localhost:8080/",
          "height": 300
        },
        "id": "3KZI2q5wPvTo",
        "outputId": "0c3f326f-5521-4c1e-c7fd-1714917d2c21"
      },
      "execution_count": 151,
      "outputs": [
        {
          "output_type": "execute_result",
          "data": {
            "text/plain": [
              "           A_id       Size    Quality\n",
              "count  10.00000  10.000000  10.000000\n",
              "mean    4.50000  -1.343514   0.600000\n",
              "std     3.02765   1.957741   0.516398\n",
              "min     0.00000  -3.970049   0.000000\n",
              "25%     2.25000  -3.067915   0.000000\n",
              "50%     4.50000  -0.961600   1.000000\n",
              "75%     6.75000  -0.383317   1.000000\n",
              "max     9.00000   1.364217   1.000000"
            ],
            "text/html": [
              "\n",
              "  <div id=\"df-ad6a93d9-bc09-4e0f-8d46-e5f695317c3d\" class=\"colab-df-container\">\n",
              "    <div>\n",
              "<style scoped>\n",
              "    .dataframe tbody tr th:only-of-type {\n",
              "        vertical-align: middle;\n",
              "    }\n",
              "\n",
              "    .dataframe tbody tr th {\n",
              "        vertical-align: top;\n",
              "    }\n",
              "\n",
              "    .dataframe thead th {\n",
              "        text-align: right;\n",
              "    }\n",
              "</style>\n",
              "<table border=\"1\" class=\"dataframe\">\n",
              "  <thead>\n",
              "    <tr style=\"text-align: right;\">\n",
              "      <th></th>\n",
              "      <th>A_id</th>\n",
              "      <th>Size</th>\n",
              "      <th>Quality</th>\n",
              "    </tr>\n",
              "  </thead>\n",
              "  <tbody>\n",
              "    <tr>\n",
              "      <th>count</th>\n",
              "      <td>10.00000</td>\n",
              "      <td>10.000000</td>\n",
              "      <td>10.000000</td>\n",
              "    </tr>\n",
              "    <tr>\n",
              "      <th>mean</th>\n",
              "      <td>4.50000</td>\n",
              "      <td>-1.343514</td>\n",
              "      <td>0.600000</td>\n",
              "    </tr>\n",
              "    <tr>\n",
              "      <th>std</th>\n",
              "      <td>3.02765</td>\n",
              "      <td>1.957741</td>\n",
              "      <td>0.516398</td>\n",
              "    </tr>\n",
              "    <tr>\n",
              "      <th>min</th>\n",
              "      <td>0.00000</td>\n",
              "      <td>-3.970049</td>\n",
              "      <td>0.000000</td>\n",
              "    </tr>\n",
              "    <tr>\n",
              "      <th>25%</th>\n",
              "      <td>2.25000</td>\n",
              "      <td>-3.067915</td>\n",
              "      <td>0.000000</td>\n",
              "    </tr>\n",
              "    <tr>\n",
              "      <th>50%</th>\n",
              "      <td>4.50000</td>\n",
              "      <td>-0.961600</td>\n",
              "      <td>1.000000</td>\n",
              "    </tr>\n",
              "    <tr>\n",
              "      <th>75%</th>\n",
              "      <td>6.75000</td>\n",
              "      <td>-0.383317</td>\n",
              "      <td>1.000000</td>\n",
              "    </tr>\n",
              "    <tr>\n",
              "      <th>max</th>\n",
              "      <td>9.00000</td>\n",
              "      <td>1.364217</td>\n",
              "      <td>1.000000</td>\n",
              "    </tr>\n",
              "  </tbody>\n",
              "</table>\n",
              "</div>\n",
              "    <div class=\"colab-df-buttons\">\n",
              "\n",
              "  <div class=\"colab-df-container\">\n",
              "    <button class=\"colab-df-convert\" onclick=\"convertToInteractive('df-ad6a93d9-bc09-4e0f-8d46-e5f695317c3d')\"\n",
              "            title=\"Convert this dataframe to an interactive table.\"\n",
              "            style=\"display:none;\">\n",
              "\n",
              "  <svg xmlns=\"http://www.w3.org/2000/svg\" height=\"24px\" viewBox=\"0 -960 960 960\">\n",
              "    <path d=\"M120-120v-720h720v720H120Zm60-500h600v-160H180v160Zm220 220h160v-160H400v160Zm0 220h160v-160H400v160ZM180-400h160v-160H180v160Zm440 0h160v-160H620v160ZM180-180h160v-160H180v160Zm440 0h160v-160H620v160Z\"/>\n",
              "  </svg>\n",
              "    </button>\n",
              "\n",
              "  <style>\n",
              "    .colab-df-container {\n",
              "      display:flex;\n",
              "      gap: 12px;\n",
              "    }\n",
              "\n",
              "    .colab-df-convert {\n",
              "      background-color: #E8F0FE;\n",
              "      border: none;\n",
              "      border-radius: 50%;\n",
              "      cursor: pointer;\n",
              "      display: none;\n",
              "      fill: #1967D2;\n",
              "      height: 32px;\n",
              "      padding: 0 0 0 0;\n",
              "      width: 32px;\n",
              "    }\n",
              "\n",
              "    .colab-df-convert:hover {\n",
              "      background-color: #E2EBFA;\n",
              "      box-shadow: 0px 1px 2px rgba(60, 64, 67, 0.3), 0px 1px 3px 1px rgba(60, 64, 67, 0.15);\n",
              "      fill: #174EA6;\n",
              "    }\n",
              "\n",
              "    .colab-df-buttons div {\n",
              "      margin-bottom: 4px;\n",
              "    }\n",
              "\n",
              "    [theme=dark] .colab-df-convert {\n",
              "      background-color: #3B4455;\n",
              "      fill: #D2E3FC;\n",
              "    }\n",
              "\n",
              "    [theme=dark] .colab-df-convert:hover {\n",
              "      background-color: #434B5C;\n",
              "      box-shadow: 0px 1px 3px 1px rgba(0, 0, 0, 0.15);\n",
              "      filter: drop-shadow(0px 1px 2px rgba(0, 0, 0, 0.3));\n",
              "      fill: #FFFFFF;\n",
              "    }\n",
              "  </style>\n",
              "\n",
              "    <script>\n",
              "      const buttonEl =\n",
              "        document.querySelector('#df-ad6a93d9-bc09-4e0f-8d46-e5f695317c3d button.colab-df-convert');\n",
              "      buttonEl.style.display =\n",
              "        google.colab.kernel.accessAllowed ? 'block' : 'none';\n",
              "\n",
              "      async function convertToInteractive(key) {\n",
              "        const element = document.querySelector('#df-ad6a93d9-bc09-4e0f-8d46-e5f695317c3d');\n",
              "        const dataTable =\n",
              "          await google.colab.kernel.invokeFunction('convertToInteractive',\n",
              "                                                    [key], {});\n",
              "        if (!dataTable) return;\n",
              "\n",
              "        const docLinkHtml = 'Like what you see? Visit the ' +\n",
              "          '<a target=\"_blank\" href=https://colab.research.google.com/notebooks/data_table.ipynb>data table notebook</a>'\n",
              "          + ' to learn more about interactive tables.';\n",
              "        element.innerHTML = '';\n",
              "        dataTable['output_type'] = 'display_data';\n",
              "        await google.colab.output.renderOutput(dataTable, element);\n",
              "        const docLink = document.createElement('div');\n",
              "        docLink.innerHTML = docLinkHtml;\n",
              "        element.appendChild(docLink);\n",
              "      }\n",
              "    </script>\n",
              "  </div>\n",
              "\n",
              "\n",
              "<div id=\"df-beb8c280-c0b7-4519-a870-0f96ca4fa581\">\n",
              "  <button class=\"colab-df-quickchart\" onclick=\"quickchart('df-beb8c280-c0b7-4519-a870-0f96ca4fa581')\"\n",
              "            title=\"Suggest charts\"\n",
              "            style=\"display:none;\">\n",
              "\n",
              "<svg xmlns=\"http://www.w3.org/2000/svg\" height=\"24px\"viewBox=\"0 0 24 24\"\n",
              "     width=\"24px\">\n",
              "    <g>\n",
              "        <path d=\"M19 3H5c-1.1 0-2 .9-2 2v14c0 1.1.9 2 2 2h14c1.1 0 2-.9 2-2V5c0-1.1-.9-2-2-2zM9 17H7v-7h2v7zm4 0h-2V7h2v10zm4 0h-2v-4h2v4z\"/>\n",
              "    </g>\n",
              "</svg>\n",
              "  </button>\n",
              "\n",
              "<style>\n",
              "  .colab-df-quickchart {\n",
              "      --bg-color: #E8F0FE;\n",
              "      --fill-color: #1967D2;\n",
              "      --hover-bg-color: #E2EBFA;\n",
              "      --hover-fill-color: #174EA6;\n",
              "      --disabled-fill-color: #AAA;\n",
              "      --disabled-bg-color: #DDD;\n",
              "  }\n",
              "\n",
              "  [theme=dark] .colab-df-quickchart {\n",
              "      --bg-color: #3B4455;\n",
              "      --fill-color: #D2E3FC;\n",
              "      --hover-bg-color: #434B5C;\n",
              "      --hover-fill-color: #FFFFFF;\n",
              "      --disabled-bg-color: #3B4455;\n",
              "      --disabled-fill-color: #666;\n",
              "  }\n",
              "\n",
              "  .colab-df-quickchart {\n",
              "    background-color: var(--bg-color);\n",
              "    border: none;\n",
              "    border-radius: 50%;\n",
              "    cursor: pointer;\n",
              "    display: none;\n",
              "    fill: var(--fill-color);\n",
              "    height: 32px;\n",
              "    padding: 0;\n",
              "    width: 32px;\n",
              "  }\n",
              "\n",
              "  .colab-df-quickchart:hover {\n",
              "    background-color: var(--hover-bg-color);\n",
              "    box-shadow: 0 1px 2px rgba(60, 64, 67, 0.3), 0 1px 3px 1px rgba(60, 64, 67, 0.15);\n",
              "    fill: var(--button-hover-fill-color);\n",
              "  }\n",
              "\n",
              "  .colab-df-quickchart-complete:disabled,\n",
              "  .colab-df-quickchart-complete:disabled:hover {\n",
              "    background-color: var(--disabled-bg-color);\n",
              "    fill: var(--disabled-fill-color);\n",
              "    box-shadow: none;\n",
              "  }\n",
              "\n",
              "  .colab-df-spinner {\n",
              "    border: 2px solid var(--fill-color);\n",
              "    border-color: transparent;\n",
              "    border-bottom-color: var(--fill-color);\n",
              "    animation:\n",
              "      spin 1s steps(1) infinite;\n",
              "  }\n",
              "\n",
              "  @keyframes spin {\n",
              "    0% {\n",
              "      border-color: transparent;\n",
              "      border-bottom-color: var(--fill-color);\n",
              "      border-left-color: var(--fill-color);\n",
              "    }\n",
              "    20% {\n",
              "      border-color: transparent;\n",
              "      border-left-color: var(--fill-color);\n",
              "      border-top-color: var(--fill-color);\n",
              "    }\n",
              "    30% {\n",
              "      border-color: transparent;\n",
              "      border-left-color: var(--fill-color);\n",
              "      border-top-color: var(--fill-color);\n",
              "      border-right-color: var(--fill-color);\n",
              "    }\n",
              "    40% {\n",
              "      border-color: transparent;\n",
              "      border-right-color: var(--fill-color);\n",
              "      border-top-color: var(--fill-color);\n",
              "    }\n",
              "    60% {\n",
              "      border-color: transparent;\n",
              "      border-right-color: var(--fill-color);\n",
              "    }\n",
              "    80% {\n",
              "      border-color: transparent;\n",
              "      border-right-color: var(--fill-color);\n",
              "      border-bottom-color: var(--fill-color);\n",
              "    }\n",
              "    90% {\n",
              "      border-color: transparent;\n",
              "      border-bottom-color: var(--fill-color);\n",
              "    }\n",
              "  }\n",
              "</style>\n",
              "\n",
              "  <script>\n",
              "    async function quickchart(key) {\n",
              "      const quickchartButtonEl =\n",
              "        document.querySelector('#' + key + ' button');\n",
              "      quickchartButtonEl.disabled = true;  // To prevent multiple clicks.\n",
              "      quickchartButtonEl.classList.add('colab-df-spinner');\n",
              "      try {\n",
              "        const charts = await google.colab.kernel.invokeFunction(\n",
              "            'suggestCharts', [key], {});\n",
              "      } catch (error) {\n",
              "        console.error('Error during call to suggestCharts:', error);\n",
              "      }\n",
              "      quickchartButtonEl.classList.remove('colab-df-spinner');\n",
              "      quickchartButtonEl.classList.add('colab-df-quickchart-complete');\n",
              "    }\n",
              "    (() => {\n",
              "      let quickchartButtonEl =\n",
              "        document.querySelector('#df-beb8c280-c0b7-4519-a870-0f96ca4fa581 button');\n",
              "      quickchartButtonEl.style.display =\n",
              "        google.colab.kernel.accessAllowed ? 'block' : 'none';\n",
              "    })();\n",
              "  </script>\n",
              "</div>\n",
              "    </div>\n",
              "  </div>\n"
            ],
            "application/vnd.google.colaboratory.intrinsic+json": {
              "type": "dataframe",
              "summary": "{\n  \"name\": \"df\",\n  \"rows\": 8,\n  \"fields\": [\n    {\n      \"column\": \"A_id\",\n      \"properties\": {\n        \"dtype\": \"number\",\n        \"std\": 3.401996631348201,\n        \"min\": 0.0,\n        \"max\": 10.0,\n        \"num_unique_values\": 7,\n        \"samples\": [\n          10.0,\n          4.5,\n          6.75\n        ],\n        \"semantic_type\": \"\",\n        \"description\": \"\"\n      }\n    },\n    {\n      \"column\": \"Size\",\n      \"properties\": {\n        \"dtype\": \"number\",\n        \"std\": 4.344583825677391,\n        \"min\": -3.970049,\n        \"max\": 10.0,\n        \"num_unique_values\": 8,\n        \"samples\": [\n          -1.3435139999999999,\n          -0.9616,\n          10.0\n        ],\n        \"semantic_type\": \"\",\n        \"description\": \"\"\n      }\n    },\n    {\n      \"column\": \"Quality\",\n      \"properties\": {\n        \"dtype\": \"number\",\n        \"std\": 3.3534115013787007,\n        \"min\": 0.0,\n        \"max\": 10.0,\n        \"num_unique_values\": 5,\n        \"samples\": [\n          0.6,\n          1.0,\n          0.5163977794943222\n        ],\n        \"semantic_type\": \"\",\n        \"description\": \"\"\n      }\n    }\n  ]\n}"
            }
          },
          "metadata": {},
          "execution_count": 151
        }
      ]
    },
    {
      "cell_type": "markdown",
      "source": [
        "The dataset comprises 10 apples, with sizes ranging from about -3.97 to 1.36. On average, apples are around -1.34 in size, showing some variability. The quality scores average 0.6, with most apples scoring 1 for quality, though some have lower scores, down to 0."
      ],
      "metadata": {
        "id": "xLQjK4jYdMOW"
      }
    },
    {
      "cell_type": "code",
      "source": [
        "plt.title('Apple Quality Plot')\n",
        "sns.distplot(df['Size'])\n",
        "plt.show()"
      ],
      "metadata": {
        "colab": {
          "base_uri": "https://localhost:8080/",
          "height": 673
        },
        "id": "f6b_WDrgP1sG",
        "outputId": "b6a39d9a-b101-4cea-de09-f7e35d59dde7"
      },
      "execution_count": 152,
      "outputs": [
        {
          "output_type": "stream",
          "name": "stderr",
          "text": [
            "<ipython-input-152-fb94b4792af0>:2: UserWarning: \n",
            "\n",
            "`distplot` is a deprecated function and will be removed in seaborn v0.14.0.\n",
            "\n",
            "Please adapt your code to use either `displot` (a figure-level function with\n",
            "similar flexibility) or `histplot` (an axes-level function for histograms).\n",
            "\n",
            "For a guide to updating your code to use the new functions, please see\n",
            "https://gist.github.com/mwaskom/de44147ed2974457ad6372750bbe5751\n",
            "\n",
            "  sns.distplot(df['Size'])\n"
          ]
        },
        {
          "output_type": "display_data",
          "data": {
            "text/plain": [
              "<Figure size 640x480 with 1 Axes>"
            ],
            "image/png": "[encoded data removed]"
          },
          "metadata": {}
        }
      ]
    },
    {
      "cell_type": "markdown",
      "source": [
        "The plot titled 'Apple Quality Plot' shows how apple sizes are distributed in the dataset. It's clear that smaller apples are more common than larger ones, suggesting that the dataset mostly includes smaller-sized apples."
      ],
      "metadata": {
        "id": "1HWN04MCdT7d"
      }
    },
    {
      "cell_type": "code",
      "source": [
        "plt.title('Apple Quality Plot')\n",
        "sns.distplot(df['Quality'])\n",
        "plt.show()"
      ],
      "metadata": {
        "colab": {
          "base_uri": "https://localhost:8080/",
          "height": 673
        },
        "id": "IAzzMuZxRPWc",
        "outputId": "6ab60da3-2ebb-4436-ee2c-88f9a536f505"
      },
      "execution_count": 153,
      "outputs": [
        {
          "output_type": "stream",
          "name": "stderr",
          "text": [
            "<ipython-input-153-5ac3d021e165>:2: UserWarning: \n",
            "\n",
            "`distplot` is a deprecated function and will be removed in seaborn v0.14.0.\n",
            "\n",
            "Please adapt your code to use either `displot` (a figure-level function with\n",
            "similar flexibility) or `histplot` (an axes-level function for histograms).\n",
            "\n",
            "For a guide to updating your code to use the new functions, please see\n",
            "https://gist.github.com/mwaskom/de44147ed2974457ad6372750bbe5751\n",
            "\n",
            "  sns.distplot(df['Quality'])\n"
          ]
        },
        {
          "output_type": "display_data",
          "data": {
            "text/plain": [
              "<Figure size 640x480 with 1 Axes>"
            ],
            "image/png": "[encoded data removed]"
          },
          "metadata": {}
        }
      ]
    },
    {
      "cell_type": "markdown",
      "source": [
        "\n",
        "The 'Apple Quality Plot' shows that most apples in the dataset have a quality score of 1, indicating higher quality. However, there are also some apples with a quality score of 0, suggesting lower quality. This visual highlights the range of quality ratings present in the dataset."
      ],
      "metadata": {
        "id": "odONpnL-db0h"
      }
    },
    {
      "cell_type": "code",
      "source": [
        "from sklearn.linear_model import LinearRegression\n",
        "lin_reg = LinearRegression()\n",
        "lin_reg.fit(X, y)"
      ],
      "metadata": {
        "colab": {
          "base_uri": "https://localhost:8080/",
          "height": 74
        },
        "id": "SwrVfk5mMu6b",
        "outputId": "48b3010c-d069-401d-c09a-dde36e32a7f0"
      },
      "execution_count": 154,
      "outputs": [
        {
          "output_type": "execute_result",
          "data": {
            "text/plain": [
              "LinearRegression()"
            ],
            "text/html": [
              "<style>#sk-container-id-14 {color: black;background-color: white;}#sk-container-id-14 pre{padding: 0;}#sk-container-id-14 div.sk-toggleable {background-color: white;}#sk-container-id-14 label.sk-toggleable__label {cursor: pointer;display: block;width: 100%;margin-bottom: 0;padding: 0.3em;box-sizing: border-box;text-align: center;}#sk-container-id-14 label.sk-toggleable__label-arrow:before {content: \"▸\";float: left;margin-right: 0.25em;color: #696969;}#sk-container-id-14 label.sk-toggleable__label-arrow:hover:before {color: black;}#sk-container-id-14 div.sk-estimator:hover label.sk-toggleable__label-arrow:before {color: black;}#sk-container-id-14 div.sk-toggleable__content {max-height: 0;max-width: 0;overflow: hidden;text-align: left;background-color: #f0f8ff;}#sk-container-id-14 div.sk-toggleable__content pre {margin: 0.2em;color: black;border-radius: 0.25em;background-color: #f0f8ff;}#sk-container-id-14 input.sk-toggleable__control:checked~div.sk-toggleable__content {max-height: 200px;max-width: 100%;overflow: auto;}#sk-container-id-14 input.sk-toggleable__control:checked~label.sk-toggleable__label-arrow:before {content: \"▾\";}#sk-container-id-14 div.sk-estimator input.sk-toggleable__control:checked~label.sk-toggleable__label {background-color: #d4ebff;}#sk-container-id-14 div.sk-label input.sk-toggleable__control:checked~label.sk-toggleable__label {background-color: #d4ebff;}#sk-container-id-14 input.sk-hidden--visually {border: 0;clip: rect(1px 1px 1px 1px);clip: rect(1px, 1px, 1px, 1px);height: 1px;margin: -1px;overflow: hidden;padding: 0;position: absolute;width: 1px;}#sk-container-id-14 div.sk-estimator {font-family: monospace;background-color: #f0f8ff;border: 1px dotted black;border-radius: 0.25em;box-sizing: border-box;margin-bottom: 0.5em;}#sk-container-id-14 div.sk-estimator:hover {background-color: #d4ebff;}#sk-container-id-14 div.sk-parallel-item::after {content: \"\";width: 100%;border-bottom: 1px solid gray;flex-grow: 1;}#sk-container-id-14 div.sk-label:hover label.sk-toggleable__label {background-color: #d4ebff;}#sk-container-id-14 div.sk-serial::before {content: \"\";position: absolute;border-left: 1px solid gray;box-sizing: border-box;top: 0;bottom: 0;left: 50%;z-index: 0;}#sk-container-id-14 div.sk-serial {display: flex;flex-direction: column;align-items: center;background-color: white;padding-right: 0.2em;padding-left: 0.2em;position: relative;}#sk-container-id-14 div.sk-item {position: relative;z-index: 1;}#sk-container-id-14 div.sk-parallel {display: flex;align-items: stretch;justify-content: center;background-color: white;position: relative;}#sk-container-id-14 div.sk-item::before, #sk-container-id-14 div.sk-parallel-item::before {content: \"\";position: absolute;border-left: 1px solid gray;box-sizing: border-box;top: 0;bottom: 0;left: 50%;z-index: -1;}#sk-container-id-14 div.sk-parallel-item {display: flex;flex-direction: column;z-index: 1;position: relative;background-color: white;}#sk-container-id-14 div.sk-parallel-item:first-child::after {align-self: flex-end;width: 50%;}#sk-container-id-14 div.sk-parallel-item:last-child::after {align-self: flex-start;width: 50%;}#sk-container-id-14 div.sk-parallel-item:only-child::after {width: 0;}#sk-container-id-14 div.sk-dashed-wrapped {border: 1px dashed gray;margin: 0 0.4em 0.5em 0.4em;box-sizing: border-box;padding-bottom: 0.4em;background-color: white;}#sk-container-id-14 div.sk-label label {font-family: monospace;font-weight: bold;display: inline-block;line-height: 1.2em;}#sk-container-id-14 div.sk-label-container {text-align: center;}#sk-container-id-14 div.sk-container {/* jupyter's `normalize.less` sets `[hidden] { display: none; }` but bootstrap.min.css set `[hidden] { display: none !important; }` so we also need the `!important` here to be able to override the default hidden behavior on the sphinx rendered scikit-learn.org. See: https://github.com/scikit-learn/scikit-learn/issues/21755 */display: inline-block !important;position: relative;}#sk-container-id-14 div.sk-text-repr-fallback {display: none;}</style><div id=\"sk-container-id-14\" class=\"sk-top-container\"><div class=\"sk-text-repr-fallback\"><pre>LinearRegression()</pre><b>In a Jupyter environment, please rerun this cell to show the HTML representation or trust the notebook. <br />On GitHub, the HTML representation is unable to render, please try loading this page with nbviewer.org.</b></div><div class=\"sk-container\" hidden><div class=\"sk-item\"><div class=\"sk-estimator sk-toggleable\"><input class=\"sk-toggleable__control sk-hidden--visually\" id=\"sk-estimator-id-14\" type=\"checkbox\" checked><label for=\"sk-estimator-id-14\" class=\"sk-toggleable__label sk-toggleable__label-arrow\">LinearRegression</label><div class=\"sk-toggleable__content\"><pre>LinearRegression()</pre></div></div></div></div></div>"
            ]
          },
          "metadata": {},
          "execution_count": 154
        }
      ]
    },
    {
      "cell_type": "code",
      "source": [
        "poly_reg = PolynomialFeatures(degree = 4)\n",
        "X_poly = poly_reg.fit_transform(X)\n",
        "lin_reg_2 = LinearRegression()\n",
        "lin_reg_2.fit(X_poly, y)\n"
      ],
      "metadata": {
        "colab": {
          "base_uri": "https://localhost:8080/",
          "height": 74
        },
        "id": "DXhEcLF2NIbf",
        "outputId": "af68d414-5ef4-42c8-edcc-747bdd32de36"
      },
      "execution_count": 155,
      "outputs": [
        {
          "output_type": "execute_result",
          "data": {
            "text/plain": [
              "LinearRegression()"
            ],
            "text/html": [
              "<style>#sk-container-id-15 {color: black;background-color: white;}#sk-container-id-15 pre{padding: 0;}#sk-container-id-15 div.sk-toggleable {background-color: white;}#sk-container-id-15 label.sk-toggleable__label {cursor: pointer;display: block;width: 100%;margin-bottom: 0;padding: 0.3em;box-sizing: border-box;text-align: center;}#sk-container-id-15 label.sk-toggleable__label-arrow:before {content: \"▸\";float: left;margin-right: 0.25em;color: #696969;}#sk-container-id-15 label.sk-toggleable__label-arrow:hover:before {color: black;}#sk-container-id-15 div.sk-estimator:hover label.sk-toggleable__label-arrow:before {color: black;}#sk-container-id-15 div.sk-toggleable__content {max-height: 0;max-width: 0;overflow: hidden;text-align: left;background-color: #f0f8ff;}#sk-container-id-15 div.sk-toggleable__content pre {margin: 0.2em;color: black;border-radius: 0.25em;background-color: #f0f8ff;}#sk-container-id-15 input.sk-toggleable__control:checked~div.sk-toggleable__content {max-height: 200px;max-width: 100%;overflow: auto;}#sk-container-id-15 input.sk-toggleable__control:checked~label.sk-toggleable__label-arrow:before {content: \"▾\";}#sk-container-id-15 div.sk-estimator input.sk-toggleable__control:checked~label.sk-toggleable__label {background-color: #d4ebff;}#sk-container-id-15 div.sk-label input.sk-toggleable__control:checked~label.sk-toggleable__label {background-color: #d4ebff;}#sk-container-id-15 input.sk-hidden--visually {border: 0;clip: rect(1px 1px 1px 1px);clip: rect(1px, 1px, 1px, 1px);height: 1px;margin: -1px;overflow: hidden;padding: 0;position: absolute;width: 1px;}#sk-container-id-15 div.sk-estimator {font-family: monospace;background-color: #f0f8ff;border: 1px dotted black;border-radius: 0.25em;box-sizing: border-box;margin-bottom: 0.5em;}#sk-container-id-15 div.sk-estimator:hover {background-color: #d4ebff;}#sk-container-id-15 div.sk-parallel-item::after {content: \"\";width: 100%;border-bottom: 1px solid gray;flex-grow: 1;}#sk-container-id-15 div.sk-label:hover label.sk-toggleable__label {background-color: #d4ebff;}#sk-container-id-15 div.sk-serial::before {content: \"\";position: absolute;border-left: 1px solid gray;box-sizing: border-box;top: 0;bottom: 0;left: 50%;z-index: 0;}#sk-container-id-15 div.sk-serial {display: flex;flex-direction: column;align-items: center;background-color: white;padding-right: 0.2em;padding-left: 0.2em;position: relative;}#sk-container-id-15 div.sk-item {position: relative;z-index: 1;}#sk-container-id-15 div.sk-parallel {display: flex;align-items: stretch;justify-content: center;background-color: white;position: relative;}#sk-container-id-15 div.sk-item::before, #sk-container-id-15 div.sk-parallel-item::before {content: \"\";position: absolute;border-left: 1px solid gray;box-sizing: border-box;top: 0;bottom: 0;left: 50%;z-index: -1;}#sk-container-id-15 div.sk-parallel-item {display: flex;flex-direction: column;z-index: 1;position: relative;background-color: white;}#sk-container-id-15 div.sk-parallel-item:first-child::after {align-self: flex-end;width: 50%;}#sk-container-id-15 div.sk-parallel-item:last-child::after {align-self: flex-start;width: 50%;}#sk-container-id-15 div.sk-parallel-item:only-child::after {width: 0;}#sk-container-id-15 div.sk-dashed-wrapped {border: 1px dashed gray;margin: 0 0.4em 0.5em 0.4em;box-sizing: border-box;padding-bottom: 0.4em;background-color: white;}#sk-container-id-15 div.sk-label label {font-family: monospace;font-weight: bold;display: inline-block;line-height: 1.2em;}#sk-container-id-15 div.sk-label-container {text-align: center;}#sk-container-id-15 div.sk-container {/* jupyter's `normalize.less` sets `[hidden] { display: none; }` but bootstrap.min.css set `[hidden] { display: none !important; }` so we also need the `!important` here to be able to override the default hidden behavior on the sphinx rendered scikit-learn.org. See: https://github.com/scikit-learn/scikit-learn/issues/21755 */display: inline-block !important;position: relative;}#sk-container-id-15 div.sk-text-repr-fallback {display: none;}</style><div id=\"sk-container-id-15\" class=\"sk-top-container\"><div class=\"sk-text-repr-fallback\"><pre>LinearRegression()</pre><b>In a Jupyter environment, please rerun this cell to show the HTML representation or trust the notebook. <br />On GitHub, the HTML representation is unable to render, please try loading this page with nbviewer.org.</b></div><div class=\"sk-container\" hidden><div class=\"sk-item\"><div class=\"sk-estimator sk-toggleable\"><input class=\"sk-toggleable__control sk-hidden--visually\" id=\"sk-estimator-id-15\" type=\"checkbox\" checked><label for=\"sk-estimator-id-15\" class=\"sk-toggleable__label sk-toggleable__label-arrow\">LinearRegression</label><div class=\"sk-toggleable__content\"><pre>LinearRegression()</pre></div></div></div></div></div>"
            ]
          },
          "metadata": {},
          "execution_count": 155
        }
      ]
    },
    {
      "cell_type": "code",
      "source": [
        "plt.scatter(X,y,color='red')\n",
        "plt.plot(X,lin_reg.predict(X),color='blue')\n",
        "plt.title('Linear Regression')\n",
        "plt.xlabel('Size')\n",
        "plt.ylabel('Quality')\n",
        "plt.show()"
      ],
      "metadata": {
        "colab": {
          "base_uri": "https://localhost:8080/",
          "height": 472
        },
        "id": "dpP95o72SKx7",
        "outputId": "327103b5-009f-47f1-8e78-b473c20034f0"
      },
      "execution_count": 156,
      "outputs": [
        {
          "output_type": "display_data",
          "data": {
            "text/plain": [
              "<Figure size 640x480 with 1 Axes>"
            ],
            "image/png": "[encoded data removed]"
          },
          "metadata": {}
        }
      ]
    },
    {
      "cell_type": "markdown",
      "source": [
        "In the 'Linear Regression' plot, red dots represent actual data points showing the relationship between apple size and quality. The upward-sloping blue line represents the model's predictions. While it suggests a positive correlation between size and quality, the blue line doesn't match any red dots exactly. This indicates that while there's a general trend, the model's predictions may not precisely match the actual data points."
      ],
      "metadata": {
        "id": "mYq37SvldwUJ"
      }
    },
    {
      "cell_type": "code",
      "source": [
        "X_grid = np.arange(min(X), max(X), 0.1)\n",
        "X_grid = X_grid.reshape((len(X_grid), 1))\n",
        "plt.scatter(X, y, color = 'red')\n",
        "plt.plot(X_grid, lin_reg_2.predict(poly_reg.fit_transform(X_grid)), color = 'blue')\n",
        "plt.title('Polynomial Regression')\n",
        "plt.xlabel('Size')\n",
        "plt.ylabel('Quality')\n",
        "plt.show()"
      ],
      "metadata": {
        "colab": {
          "base_uri": "https://localhost:8080/",
          "height": 528
        },
        "id": "sqjPa3nCNUtQ",
        "outputId": "ac540248-888a-457c-8b95-3ca2102270c8"
      },
      "execution_count": 157,
      "outputs": [
        {
          "output_type": "stream",
          "name": "stderr",
          "text": [
            "<ipython-input-157-5e669e760935>:1: DeprecationWarning: Conversion of an array with ndim > 0 to a scalar is deprecated, and will error in future. Ensure you extract a single element from your array before performing this operation. (Deprecated NumPy 1.25.)\n",
            "  X_grid = np.arange(min(X), max(X), 0.1)\n"
          ]
        },
        {
          "output_type": "display_data",
          "data": {
            "text/plain": [
              "<Figure size 640x480 with 1 Axes>"
            ],
            "image/png": "[encoded data removed]"
          },
          "metadata": {}
        }
      ]
    },
    {
      "cell_type": "markdown",
      "source": [
        "The blue line intersects with the red dots at certain points (around -2, -1, and 0 on the size axis), showing that the model's predictions closely match the actual data there. However, for other points, the blue line doesn't meet any red dots, indicating differences between the model's predictions and the actual data."
      ],
      "metadata": {
        "id": "sAUq9F3meE68"
      }
    },
    {
      "cell_type": "code",
      "source": [
        "# Predict a new result with linear regression\n",
        "print(f'Linear Regression result: {lin_reg.predict([[6.5]])}')\n",
        "\n",
        "# Predict a new result with polynomial regression\n",
        "print(f'Polynomial Regression result: {lin_reg_2.predict(poly_reg.fit_transform([[6.5]]))}')\n"
      ],
      "metadata": {
        "colab": {
          "base_uri": "https://localhost:8080/"
        },
        "id": "qLuViuVSNZRA",
        "outputId": "e7a0a86f-391f-492c-8561-263c836c460c"
      },
      "execution_count": 166,
      "outputs": [
        {
          "output_type": "stream",
          "name": "stdout",
          "text": [
            "Linear Regression result: [1.26827425]\n",
            "Polynomial Regression result: [380.09566648]\n"
          ]
        }
      ]
    },
    {
      "cell_type": "markdown",
      "source": [
        "When predicting the quality score for a new apple size of 6.5, there's a substantial difference between the estimates provided by the linear regression and polynomial regression models. The linear model suggests a score of around 1.27, which seems reasonable. However, the polynomial model predicts an unusually high score of about 380.10, which appears quite unrealistic. This discrepancy raises concerns about the polynomial model's reliability and warrants a closer examination of its performance and the plausibility of such a high prediction."
      ],
      "metadata": {
        "id": "GVf5nVFnfqJw"
      }
    },
    {
      "cell_type": "markdown",
      "source": [
        "https://www.kaggle.com/code/pankeshpatel/polynomial-linear-regression-tutorial\n",
        "https://gist.github.com/RobotOptimist/cc82e87e7d2104e58711b7c846a9e220\n",
        "https://realpython.com/linear-regression-in-python/"
      ],
      "metadata": {
        "id": "w5f_XEi1DnyV"
      }
    }
  ]
}